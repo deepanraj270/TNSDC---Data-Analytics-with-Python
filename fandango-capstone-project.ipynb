{
 "cells": [
  {
   "cell_type": "markdown",
   "id": "25265a39",
   "metadata": {
    "papermill": {
     "duration": 0.022021,
     "end_time": "2022-09-02T22:26:45.448778",
     "exception": false,
     "start_time": "2022-09-02T22:26:45.426757",
     "status": "completed"
    },
    "tags": []
   },
   "source": [
    "# Capstone Project\n",
    "## Overview\n",
    "\n",
    "If you are planning on going out to see a movie, how well can you trust online reviews and ratings? *Especially* if the same company showing the rating *also* makes money by selling movie tickets. Do they have a bias towards rating movies higher than they should be rated?\n",
    "\n",
    "### Goal:\n",
    "\n",
    "**The goal is to complete the tasks below based off the 538 article and see if we can reach a similar conclusion. We will need to pandas and visualization skills to determine if Fandango's ratings in 2015 had a bias towards rating movies better to sell more tickets.**\n",
    "\n",
    "---\n",
    "---\n",
    "\n",
    "\n",
    "---\n",
    "----\n",
    "\n",
    "## Part One: Understanding the Background and Data\n",
    "\n",
    "\n",
    "**TASK: Read this article: [Be Suspicious Of Online Movie Ratings, Especially Fandango’s](http://fivethirtyeight.com/features/fandango-movies-ratings/)**"
   ]
  },
  {
   "cell_type": "markdown",
   "id": "d2e7b882",
   "metadata": {
    "papermill": {
     "duration": 0.019606,
     "end_time": "2022-09-02T22:26:45.488486",
     "exception": false,
     "start_time": "2022-09-02T22:26:45.468880",
     "status": "completed"
    },
    "tags": []
   },
   "source": [
    "----\n",
    "\n",
    "**TASK: After reading the article, we need to read these two tables giving an overview of the two .csv files we will be working with:**\n",
    "\n",
    "### The Data\n",
    "\n",
    "This is the data behind the story [Be Suspicious Of Online Movie Ratings, Especially Fandango’s](http://fivethirtyeight.com/features/fandango-movies-ratings/) openly available on 538's github: https://github.com/fivethirtyeight/data. There are two csv files, one with Fandango Stars and Displayed Ratings, and the other with aggregate data for movie ratings from other sites, like Metacritic,IMDB, and Rotten Tomatoes.\n",
    "\n",
    "#### all_sites_scores.csv"
   ]
  },
  {
   "cell_type": "markdown",
   "id": "64b9f5d6",
   "metadata": {
    "papermill": {
     "duration": 0.019703,
     "end_time": "2022-09-02T22:26:45.528054",
     "exception": false,
     "start_time": "2022-09-02T22:26:45.508351",
     "status": "completed"
    },
    "tags": []
   },
   "source": [
    "-----\n",
    "\n",
    "`all_sites_scores.csv` contains every film that has a Rotten Tomatoes rating, a RT User rating, a Metacritic score, a Metacritic User score, and IMDb score, and at least 30 fan reviews on Fandango. The data from Fandango was pulled on Aug. 24, 2015."
   ]
  },
  {
   "cell_type": "markdown",
   "id": "afd19b7c",
   "metadata": {
    "papermill": {
     "duration": 0.019612,
     "end_time": "2022-09-02T22:26:45.567446",
     "exception": false,
     "start_time": "2022-09-02T22:26:45.547834",
     "status": "completed"
    },
    "tags": []
   },
   "source": [
    "Column | Definition\n",
    "--- | -----------\n",
    "FILM | The film in question\n",
    "RottenTomatoes | The Rotten Tomatoes Tomatometer score  for the film\n",
    "RottenTomatoes_User | The Rotten Tomatoes user score for the film\n",
    "Metacritic | The Metacritic critic score for the film\n",
    "Metacritic_User | The Metacritic user score for the film\n",
    "IMDB | The IMDb user score for the film\n",
    "Metacritic_user_vote_count | The number of user votes the film had on Metacritic\n",
    "IMDB_user_vote_count | The number of user votes the film had on IMDb"
   ]
  },
  {
   "cell_type": "markdown",
   "id": "70652f48",
   "metadata": {
    "papermill": {
     "duration": 0.019271,
     "end_time": "2022-09-02T22:26:45.606480",
     "exception": false,
     "start_time": "2022-09-02T22:26:45.587209",
     "status": "completed"
    },
    "tags": []
   },
   "source": [
    "----\n",
    "----\n",
    "\n",
    "#### fandango_scape.csv"
   ]
  },
  {
   "cell_type": "markdown",
   "id": "4aae88ef",
   "metadata": {
    "papermill": {
     "duration": 0.019626,
     "end_time": "2022-09-02T22:26:45.646372",
     "exception": false,
     "start_time": "2022-09-02T22:26:45.626746",
     "status": "completed"
    },
    "tags": []
   },
   "source": [
    "`fandango_scrape.csv` contains every film 538 pulled from Fandango.\n",
    "\n",
    "Column | Definiton\n",
    "--- | ---------\n",
    "FILM | The movie\n",
    "STARS | Number of stars presented on Fandango.com\n",
    "RATING |  The Fandango ratingValue for the film, as pulled from the HTML of each page. This is the actual average score the movie obtained.\n",
    "VOTES | number of people who had reviewed the film at the time we pulled it."
   ]
  },
  {
   "cell_type": "markdown",
   "id": "191bd5b2",
   "metadata": {
    "papermill": {
     "duration": 0.019605,
     "end_time": "2022-09-02T22:26:45.685819",
     "exception": false,
     "start_time": "2022-09-02T22:26:45.666214",
     "status": "completed"
    },
    "tags": []
   },
   "source": [
    "----\n",
    "\n",
    "**Import libraries we will be using:**"
   ]
  },
  {
   "cell_type": "code",
   "execution_count": 1,
   "id": "12ab810b",
   "metadata": {
    "execution": {
     "iopub.execute_input": "2022-09-02T22:26:45.728255Z",
     "iopub.status.busy": "2022-09-02T22:26:45.727440Z",
     "iopub.status.idle": "2022-09-02T22:26:46.914158Z",
     "shell.execute_reply": "2022-09-02T22:26:46.912656Z"
    },
    "papermill": {
     "duration": 1.211944,
     "end_time": "2022-09-02T22:26:46.917373",
     "exception": false,
     "start_time": "2022-09-02T22:26:45.705429",
     "status": "completed"
    },
    "tags": []
   },
   "outputs": [],
   "source": [
    "import numpy as np\n",
    "import pandas as pd\n",
    "import matplotlib.pyplot as plt\n",
    "import seaborn as sns"
   ]
  },
  {
   "cell_type": "markdown",
   "id": "0368c455",
   "metadata": {
    "papermill": {
     "duration": 0.020156,
     "end_time": "2022-09-02T22:26:46.959648",
     "exception": false,
     "start_time": "2022-09-02T22:26:46.939492",
     "status": "completed"
    },
    "tags": []
   },
   "source": [
    "## Part Two: Exploring Fandango Displayed Scores versus True User Ratings\n",
    "\n",
    "Let's first explore the Fandango ratings to see if our analysis agrees with the article's conclusion.\n",
    "\n",
    "**Read in the fandango_scrape.csv file**"
   ]
  },
  {
   "cell_type": "code",
   "execution_count": 2,
   "id": "ffa2840d",
   "metadata": {
    "execution": {
     "iopub.execute_input": "2022-09-02T22:26:47.000984Z",
     "iopub.status.busy": "2022-09-02T22:26:47.000523Z",
     "iopub.status.idle": "2022-09-02T22:26:47.019838Z",
     "shell.execute_reply": "2022-09-02T22:26:47.018815Z"
    },
    "papermill": {
     "duration": 0.043141,
     "end_time": "2022-09-02T22:26:47.022654",
     "exception": false,
     "start_time": "2022-09-02T22:26:46.979513",
     "status": "completed"
    },
    "tags": []
   },
   "outputs": [],
   "source": [
    "fandango = pd.read_csv(\"../input/fandango-scrape/fandango_scrape.csv\")"
   ]
  },
  {
   "cell_type": "code",
   "execution_count": 3,
   "id": "a69fe350",
   "metadata": {
    "execution": {
     "iopub.execute_input": "2022-09-02T22:26:47.065075Z",
     "iopub.status.busy": "2022-09-02T22:26:47.064332Z",
     "iopub.status.idle": "2022-09-02T22:26:47.088726Z",
     "shell.execute_reply": "2022-09-02T22:26:47.087311Z"
    },
    "papermill": {
     "duration": 0.048377,
     "end_time": "2022-09-02T22:26:47.091413",
     "exception": false,
     "start_time": "2022-09-02T22:26:47.043036",
     "status": "completed"
    },
    "tags": []
   },
   "outputs": [
    {
     "data": {
      "text/html": [
       "<div>\n",
       "<style scoped>\n",
       "    .dataframe tbody tr th:only-of-type {\n",
       "        vertical-align: middle;\n",
       "    }\n",
       "\n",
       "    .dataframe tbody tr th {\n",
       "        vertical-align: top;\n",
       "    }\n",
       "\n",
       "    .dataframe thead th {\n",
       "        text-align: right;\n",
       "    }\n",
       "</style>\n",
       "<table border=\"1\" class=\"dataframe\">\n",
       "  <thead>\n",
       "    <tr style=\"text-align: right;\">\n",
       "      <th></th>\n",
       "      <th>FILM</th>\n",
       "      <th>STARS</th>\n",
       "      <th>RATING</th>\n",
       "      <th>VOTES</th>\n",
       "    </tr>\n",
       "  </thead>\n",
       "  <tbody>\n",
       "    <tr>\n",
       "      <th>0</th>\n",
       "      <td>Fifty Shades of Grey (2015)</td>\n",
       "      <td>4.0</td>\n",
       "      <td>3.9</td>\n",
       "      <td>34846</td>\n",
       "    </tr>\n",
       "    <tr>\n",
       "      <th>1</th>\n",
       "      <td>Jurassic World (2015)</td>\n",
       "      <td>4.5</td>\n",
       "      <td>4.5</td>\n",
       "      <td>34390</td>\n",
       "    </tr>\n",
       "    <tr>\n",
       "      <th>2</th>\n",
       "      <td>American Sniper (2015)</td>\n",
       "      <td>5.0</td>\n",
       "      <td>4.8</td>\n",
       "      <td>34085</td>\n",
       "    </tr>\n",
       "    <tr>\n",
       "      <th>3</th>\n",
       "      <td>Furious 7 (2015)</td>\n",
       "      <td>5.0</td>\n",
       "      <td>4.8</td>\n",
       "      <td>33538</td>\n",
       "    </tr>\n",
       "    <tr>\n",
       "      <th>4</th>\n",
       "      <td>Inside Out (2015)</td>\n",
       "      <td>4.5</td>\n",
       "      <td>4.5</td>\n",
       "      <td>15749</td>\n",
       "    </tr>\n",
       "  </tbody>\n",
       "</table>\n",
       "</div>"
      ],
      "text/plain": [
       "                          FILM  STARS  RATING  VOTES\n",
       "0  Fifty Shades of Grey (2015)    4.0     3.9  34846\n",
       "1        Jurassic World (2015)    4.5     4.5  34390\n",
       "2       American Sniper (2015)    5.0     4.8  34085\n",
       "3             Furious 7 (2015)    5.0     4.8  33538\n",
       "4            Inside Out (2015)    4.5     4.5  15749"
      ]
     },
     "execution_count": 3,
     "metadata": {},
     "output_type": "execute_result"
    }
   ],
   "source": [
    "fandango.head()"
   ]
  },
  {
   "cell_type": "code",
   "execution_count": 4,
   "id": "d27196c9",
   "metadata": {
    "execution": {
     "iopub.execute_input": "2022-09-02T22:26:47.133810Z",
     "iopub.status.busy": "2022-09-02T22:26:47.132944Z",
     "iopub.status.idle": "2022-09-02T22:26:47.159650Z",
     "shell.execute_reply": "2022-09-02T22:26:47.157782Z"
    },
    "papermill": {
     "duration": 0.05088,
     "end_time": "2022-09-02T22:26:47.162308",
     "exception": false,
     "start_time": "2022-09-02T22:26:47.111428",
     "status": "completed"
    },
    "tags": []
   },
   "outputs": [
    {
     "name": "stdout",
     "output_type": "stream",
     "text": [
      "<class 'pandas.core.frame.DataFrame'>\n",
      "RangeIndex: 504 entries, 0 to 503\n",
      "Data columns (total 4 columns):\n",
      " #   Column  Non-Null Count  Dtype  \n",
      "---  ------  --------------  -----  \n",
      " 0   FILM    504 non-null    object \n",
      " 1   STARS   504 non-null    float64\n",
      " 2   RATING  504 non-null    float64\n",
      " 3   VOTES   504 non-null    int64  \n",
      "dtypes: float64(2), int64(1), object(1)\n",
      "memory usage: 15.9+ KB\n"
     ]
    }
   ],
   "source": [
    "fandango.info()"
   ]
  },
  {
   "cell_type": "code",
   "execution_count": 5,
   "id": "fb9e7d79",
   "metadata": {
    "execution": {
     "iopub.execute_input": "2022-09-02T22:26:47.204801Z",
     "iopub.status.busy": "2022-09-02T22:26:47.203928Z",
     "iopub.status.idle": "2022-09-02T22:26:47.231172Z",
     "shell.execute_reply": "2022-09-02T22:26:47.230210Z"
    },
    "papermill": {
     "duration": 0.051128,
     "end_time": "2022-09-02T22:26:47.233584",
     "exception": false,
     "start_time": "2022-09-02T22:26:47.182456",
     "status": "completed"
    },
    "tags": []
   },
   "outputs": [
    {
     "data": {
      "text/html": [
       "<div>\n",
       "<style scoped>\n",
       "    .dataframe tbody tr th:only-of-type {\n",
       "        vertical-align: middle;\n",
       "    }\n",
       "\n",
       "    .dataframe tbody tr th {\n",
       "        vertical-align: top;\n",
       "    }\n",
       "\n",
       "    .dataframe thead th {\n",
       "        text-align: right;\n",
       "    }\n",
       "</style>\n",
       "<table border=\"1\" class=\"dataframe\">\n",
       "  <thead>\n",
       "    <tr style=\"text-align: right;\">\n",
       "      <th></th>\n",
       "      <th>STARS</th>\n",
       "      <th>RATING</th>\n",
       "      <th>VOTES</th>\n",
       "    </tr>\n",
       "  </thead>\n",
       "  <tbody>\n",
       "    <tr>\n",
       "      <th>count</th>\n",
       "      <td>504.000000</td>\n",
       "      <td>504.000000</td>\n",
       "      <td>504.000000</td>\n",
       "    </tr>\n",
       "    <tr>\n",
       "      <th>mean</th>\n",
       "      <td>3.558532</td>\n",
       "      <td>3.375794</td>\n",
       "      <td>1147.863095</td>\n",
       "    </tr>\n",
       "    <tr>\n",
       "      <th>std</th>\n",
       "      <td>1.563133</td>\n",
       "      <td>1.491223</td>\n",
       "      <td>3830.583136</td>\n",
       "    </tr>\n",
       "    <tr>\n",
       "      <th>min</th>\n",
       "      <td>0.000000</td>\n",
       "      <td>0.000000</td>\n",
       "      <td>0.000000</td>\n",
       "    </tr>\n",
       "    <tr>\n",
       "      <th>25%</th>\n",
       "      <td>3.500000</td>\n",
       "      <td>3.100000</td>\n",
       "      <td>3.000000</td>\n",
       "    </tr>\n",
       "    <tr>\n",
       "      <th>50%</th>\n",
       "      <td>4.000000</td>\n",
       "      <td>3.800000</td>\n",
       "      <td>18.500000</td>\n",
       "    </tr>\n",
       "    <tr>\n",
       "      <th>75%</th>\n",
       "      <td>4.500000</td>\n",
       "      <td>4.300000</td>\n",
       "      <td>189.750000</td>\n",
       "    </tr>\n",
       "    <tr>\n",
       "      <th>max</th>\n",
       "      <td>5.000000</td>\n",
       "      <td>5.000000</td>\n",
       "      <td>34846.000000</td>\n",
       "    </tr>\n",
       "  </tbody>\n",
       "</table>\n",
       "</div>"
      ],
      "text/plain": [
       "            STARS      RATING         VOTES\n",
       "count  504.000000  504.000000    504.000000\n",
       "mean     3.558532    3.375794   1147.863095\n",
       "std      1.563133    1.491223   3830.583136\n",
       "min      0.000000    0.000000      0.000000\n",
       "25%      3.500000    3.100000      3.000000\n",
       "50%      4.000000    3.800000     18.500000\n",
       "75%      4.500000    4.300000    189.750000\n",
       "max      5.000000    5.000000  34846.000000"
      ]
     },
     "execution_count": 5,
     "metadata": {},
     "output_type": "execute_result"
    }
   ],
   "source": [
    "fandango.describe()"
   ]
  },
  {
   "cell_type": "markdown",
   "id": "5ed07e88",
   "metadata": {
    "papermill": {
     "duration": 0.019912,
     "end_time": "2022-09-02T22:26:47.274128",
     "exception": false,
     "start_time": "2022-09-02T22:26:47.254216",
     "status": "completed"
    },
    "tags": []
   },
   "source": [
    "**Let's explore the relationship between popularity of a film and its rating. We will create a scatterplot showing the relationship between rating and votes.**"
   ]
  },
  {
   "cell_type": "code",
   "execution_count": 6,
   "id": "05298efe",
   "metadata": {
    "execution": {
     "iopub.execute_input": "2022-09-02T22:26:47.317364Z",
     "iopub.status.busy": "2022-09-02T22:26:47.316499Z",
     "iopub.status.idle": "2022-09-02T22:26:47.653395Z",
     "shell.execute_reply": "2022-09-02T22:26:47.652428Z"
    },
    "papermill": {
     "duration": 0.361423,
     "end_time": "2022-09-02T22:26:47.655802",
     "exception": false,
     "start_time": "2022-09-02T22:26:47.294379",
     "status": "completed"
    },
    "tags": []
   },
   "outputs": [
    {
     "data": {
      "image/png": "[encoded data removed]",
      "text/plain": [
       "<Figure size 1152x432 with 1 Axes>"
      ]
     },
     "metadata": {
      "needs_background": "light"
     },
     "output_type": "display_data"
    }
   ],
   "source": [
    "plt.figure(figsize=(16,6))\n",
    "sns.scatterplot(x='RATING', y='VOTES', data=fandango);"
   ]
  },
  {
   "cell_type": "markdown",
   "id": "31ccf4e3",
   "metadata": {
    "papermill": {
     "duration": 0.020711,
     "end_time": "2022-09-02T22:26:47.697226",
     "exception": false,
     "start_time": "2022-09-02T22:26:47.676515",
     "status": "completed"
    },
    "tags": []
   },
   "source": [
    "**Let's Calculate the correlation between the columns:**"
   ]
  },
  {
   "cell_type": "code",
   "execution_count": 7,
   "id": "b9121e97",
   "metadata": {
    "execution": {
     "iopub.execute_input": "2022-09-02T22:26:47.741029Z",
     "iopub.status.busy": "2022-09-02T22:26:47.740275Z",
     "iopub.status.idle": "2022-09-02T22:26:47.754984Z",
     "shell.execute_reply": "2022-09-02T22:26:47.753463Z"
    },
    "papermill": {
     "duration": 0.039853,
     "end_time": "2022-09-02T22:26:47.757728",
     "exception": false,
     "start_time": "2022-09-02T22:26:47.717875",
     "status": "completed"
    },
    "tags": []
   },
   "outputs": [
    {
     "data": {
      "text/html": [
       "<div>\n",
       "<style scoped>\n",
       "    .dataframe tbody tr th:only-of-type {\n",
       "        vertical-align: middle;\n",
       "    }\n",
       "\n",
       "    .dataframe tbody tr th {\n",
       "        vertical-align: top;\n",
       "    }\n",
       "\n",
       "    .dataframe thead th {\n",
       "        text-align: right;\n",
       "    }\n",
       "</style>\n",
       "<table border=\"1\" class=\"dataframe\">\n",
       "  <thead>\n",
       "    <tr style=\"text-align: right;\">\n",
       "      <th></th>\n",
       "      <th>STARS</th>\n",
       "      <th>RATING</th>\n",
       "      <th>VOTES</th>\n",
       "    </tr>\n",
       "  </thead>\n",
       "  <tbody>\n",
       "    <tr>\n",
       "      <th>STARS</th>\n",
       "      <td>1.000000</td>\n",
       "      <td>0.994696</td>\n",
       "      <td>0.164218</td>\n",
       "    </tr>\n",
       "    <tr>\n",
       "      <th>RATING</th>\n",
       "      <td>0.994696</td>\n",
       "      <td>1.000000</td>\n",
       "      <td>0.163764</td>\n",
       "    </tr>\n",
       "    <tr>\n",
       "      <th>VOTES</th>\n",
       "      <td>0.164218</td>\n",
       "      <td>0.163764</td>\n",
       "      <td>1.000000</td>\n",
       "    </tr>\n",
       "  </tbody>\n",
       "</table>\n",
       "</div>"
      ],
      "text/plain": [
       "           STARS    RATING     VOTES\n",
       "STARS   1.000000  0.994696  0.164218\n",
       "RATING  0.994696  1.000000  0.163764\n",
       "VOTES   0.164218  0.163764  1.000000"
      ]
     },
     "execution_count": 7,
     "metadata": {},
     "output_type": "execute_result"
    }
   ],
   "source": [
    "fandango.corr()"
   ]
  },
  {
   "cell_type": "markdown",
   "id": "d0c935aa",
   "metadata": {
    "papermill": {
     "duration": 0.020521,
     "end_time": "2022-09-02T22:26:47.799404",
     "exception": false,
     "start_time": "2022-09-02T22:26:47.778883",
     "status": "completed"
    },
    "tags": []
   },
   "source": [
    "**Assuming that every row in the FILM title column has the same format:**\n",
    "\n",
    "    Film Title Name (Year)\n",
    "    \n",
    "**We are going to create a new column that is able to strip the year from the title strings and set this new column as YEAR**"
   ]
  },
  {
   "cell_type": "code",
   "execution_count": 8,
   "id": "2c38c7c1",
   "metadata": {
    "execution": {
     "iopub.execute_input": "2022-09-02T22:26:47.843805Z",
     "iopub.status.busy": "2022-09-02T22:26:47.843361Z",
     "iopub.status.idle": "2022-09-02T22:26:47.853788Z",
     "shell.execute_reply": "2022-09-02T22:26:47.852291Z"
    },
    "papermill": {
     "duration": 0.03581,
     "end_time": "2022-09-02T22:26:47.856391",
     "exception": false,
     "start_time": "2022-09-02T22:26:47.820581",
     "status": "completed"
    },
    "tags": []
   },
   "outputs": [
    {
     "name": "stderr",
     "output_type": "stream",
     "text": [
      "/opt/conda/lib/python3.7/site-packages/ipykernel_launcher.py:1: FutureWarning: The default value of regex will change from True to False in a future version.\n",
      "  \"\"\"Entry point for launching an IPython kernel.\n"
     ]
    }
   ],
   "source": [
    "fandango['YEAR'] = fandango['FILM'].str.replace(r'[^(]*\\(|\\)[^)]*', '')"
   ]
  },
  {
   "cell_type": "code",
   "execution_count": 9,
   "id": "0393514e",
   "metadata": {
    "execution": {
     "iopub.execute_input": "2022-09-02T22:26:47.901423Z",
     "iopub.status.busy": "2022-09-02T22:26:47.900722Z",
     "iopub.status.idle": "2022-09-02T22:26:47.920363Z",
     "shell.execute_reply": "2022-09-02T22:26:47.918825Z"
    },
    "papermill": {
     "duration": 0.045255,
     "end_time": "2022-09-02T22:26:47.922798",
     "exception": false,
     "start_time": "2022-09-02T22:26:47.877543",
     "status": "completed"
    },
    "tags": []
   },
   "outputs": [
    {
     "data": {
      "text/html": [
       "<div>\n",
       "<style scoped>\n",
       "    .dataframe tbody tr th:only-of-type {\n",
       "        vertical-align: middle;\n",
       "    }\n",
       "\n",
       "    .dataframe tbody tr th {\n",
       "        vertical-align: top;\n",
       "    }\n",
       "\n",
       "    .dataframe thead th {\n",
       "        text-align: right;\n",
       "    }\n",
       "</style>\n",
       "<table border=\"1\" class=\"dataframe\">\n",
       "  <thead>\n",
       "    <tr style=\"text-align: right;\">\n",
       "      <th></th>\n",
       "      <th>FILM</th>\n",
       "      <th>STARS</th>\n",
       "      <th>RATING</th>\n",
       "      <th>VOTES</th>\n",
       "      <th>YEAR</th>\n",
       "    </tr>\n",
       "  </thead>\n",
       "  <tbody>\n",
       "    <tr>\n",
       "      <th>0</th>\n",
       "      <td>Fifty Shades of Grey (2015)</td>\n",
       "      <td>4.0</td>\n",
       "      <td>3.9</td>\n",
       "      <td>34846</td>\n",
       "      <td>2015</td>\n",
       "    </tr>\n",
       "    <tr>\n",
       "      <th>1</th>\n",
       "      <td>Jurassic World (2015)</td>\n",
       "      <td>4.5</td>\n",
       "      <td>4.5</td>\n",
       "      <td>34390</td>\n",
       "      <td>2015</td>\n",
       "    </tr>\n",
       "    <tr>\n",
       "      <th>2</th>\n",
       "      <td>American Sniper (2015)</td>\n",
       "      <td>5.0</td>\n",
       "      <td>4.8</td>\n",
       "      <td>34085</td>\n",
       "      <td>2015</td>\n",
       "    </tr>\n",
       "    <tr>\n",
       "      <th>3</th>\n",
       "      <td>Furious 7 (2015)</td>\n",
       "      <td>5.0</td>\n",
       "      <td>4.8</td>\n",
       "      <td>33538</td>\n",
       "      <td>2015</td>\n",
       "    </tr>\n",
       "    <tr>\n",
       "      <th>4</th>\n",
       "      <td>Inside Out (2015)</td>\n",
       "      <td>4.5</td>\n",
       "      <td>4.5</td>\n",
       "      <td>15749</td>\n",
       "      <td>2015</td>\n",
       "    </tr>\n",
       "    <tr>\n",
       "      <th>...</th>\n",
       "      <td>...</td>\n",
       "      <td>...</td>\n",
       "      <td>...</td>\n",
       "      <td>...</td>\n",
       "      <td>...</td>\n",
       "    </tr>\n",
       "    <tr>\n",
       "      <th>499</th>\n",
       "      <td>Valiyavan (2015)</td>\n",
       "      <td>0.0</td>\n",
       "      <td>0.0</td>\n",
       "      <td>0</td>\n",
       "      <td>2015</td>\n",
       "    </tr>\n",
       "    <tr>\n",
       "      <th>500</th>\n",
       "      <td>WWE SummerSlam 2015 (2015)</td>\n",
       "      <td>0.0</td>\n",
       "      <td>0.0</td>\n",
       "      <td>0</td>\n",
       "      <td>2015</td>\n",
       "    </tr>\n",
       "    <tr>\n",
       "      <th>501</th>\n",
       "      <td>Yagavarayinum Naa Kaakka (2015)</td>\n",
       "      <td>0.0</td>\n",
       "      <td>0.0</td>\n",
       "      <td>0</td>\n",
       "      <td>2015</td>\n",
       "    </tr>\n",
       "    <tr>\n",
       "      <th>502</th>\n",
       "      <td>Yesterday, Today and Tomorrow (1964)</td>\n",
       "      <td>0.0</td>\n",
       "      <td>0.0</td>\n",
       "      <td>0</td>\n",
       "      <td>1964</td>\n",
       "    </tr>\n",
       "    <tr>\n",
       "      <th>503</th>\n",
       "      <td>Zarafa (2012)</td>\n",
       "      <td>0.0</td>\n",
       "      <td>0.0</td>\n",
       "      <td>0</td>\n",
       "      <td>2012</td>\n",
       "    </tr>\n",
       "  </tbody>\n",
       "</table>\n",
       "<p>504 rows × 5 columns</p>\n",
       "</div>"
      ],
      "text/plain": [
       "                                     FILM  STARS  RATING  VOTES  YEAR\n",
       "0             Fifty Shades of Grey (2015)    4.0     3.9  34846  2015\n",
       "1                   Jurassic World (2015)    4.5     4.5  34390  2015\n",
       "2                  American Sniper (2015)    5.0     4.8  34085  2015\n",
       "3                        Furious 7 (2015)    5.0     4.8  33538  2015\n",
       "4                       Inside Out (2015)    4.5     4.5  15749  2015\n",
       "..                                    ...    ...     ...    ...   ...\n",
       "499                      Valiyavan (2015)    0.0     0.0      0  2015\n",
       "500            WWE SummerSlam 2015 (2015)    0.0     0.0      0  2015\n",
       "501       Yagavarayinum Naa Kaakka (2015)    0.0     0.0      0  2015\n",
       "502  Yesterday, Today and Tomorrow (1964)    0.0     0.0      0  1964\n",
       "503                         Zarafa (2012)    0.0     0.0      0  2012\n",
       "\n",
       "[504 rows x 5 columns]"
      ]
     },
     "execution_count": 9,
     "metadata": {},
     "output_type": "execute_result"
    }
   ],
   "source": [
    "fandango"
   ]
  },
  {
   "cell_type": "markdown",
   "id": "7394788f",
   "metadata": {
    "papermill": {
     "duration": 0.021115,
     "end_time": "2022-09-02T22:26:47.965428",
     "exception": false,
     "start_time": "2022-09-02T22:26:47.944313",
     "status": "completed"
    },
    "tags": []
   },
   "source": [
    "**How many movies are in the Fandango DataFrame per year?**"
   ]
  },
  {
   "cell_type": "code",
   "execution_count": 10,
   "id": "b4026011",
   "metadata": {
    "execution": {
     "iopub.execute_input": "2022-09-02T22:26:48.011212Z",
     "iopub.status.busy": "2022-09-02T22:26:48.010460Z",
     "iopub.status.idle": "2022-09-02T22:26:48.020684Z",
     "shell.execute_reply": "2022-09-02T22:26:48.019308Z"
    },
    "papermill": {
     "duration": 0.036637,
     "end_time": "2022-09-02T22:26:48.023607",
     "exception": false,
     "start_time": "2022-09-02T22:26:47.986970",
     "status": "completed"
    },
    "tags": []
   },
   "outputs": [
    {
     "data": {
      "text/plain": [
       "2015    478\n",
       "2014     23\n",
       "2016      1\n",
       "1964      1\n",
       "2012      1\n",
       "Name: YEAR, dtype: int64"
      ]
     },
     "execution_count": 10,
     "metadata": {},
     "output_type": "execute_result"
    }
   ],
   "source": [
    "fandango['YEAR'].value_counts()"
   ]
  },
  {
   "cell_type": "markdown",
   "id": "9af2c0d8",
   "metadata": {
    "papermill": {
     "duration": 0.021319,
     "end_time": "2022-09-02T22:26:48.066526",
     "exception": false,
     "start_time": "2022-09-02T22:26:48.045207",
     "status": "completed"
    },
    "tags": []
   },
   "source": [
    "**Count of movies per year:**"
   ]
  },
  {
   "cell_type": "code",
   "execution_count": 11,
   "id": "0f13e42b",
   "metadata": {
    "execution": {
     "iopub.execute_input": "2022-09-02T22:26:48.112998Z",
     "iopub.status.busy": "2022-09-02T22:26:48.112066Z",
     "iopub.status.idle": "2022-09-02T22:26:48.351054Z",
     "shell.execute_reply": "2022-09-02T22:26:48.349708Z"
    },
    "papermill": {
     "duration": 0.265449,
     "end_time": "2022-09-02T22:26:48.353760",
     "exception": false,
     "start_time": "2022-09-02T22:26:48.088311",
     "status": "completed"
    },
    "tags": []
   },
   "outputs": [
    {
     "data": {
      "image/png": "[encoded data removed]",
      "text/plain": [
       "<Figure size 432x288 with 1 Axes>"
      ]
     },
     "metadata": {
      "needs_background": "light"
     },
     "output_type": "display_data"
    }
   ],
   "source": [
    "sns.countplot(data=fandango, x='YEAR');"
   ]
  },
  {
   "cell_type": "markdown",
   "id": "cb144a1d",
   "metadata": {
    "papermill": {
     "duration": 0.02158,
     "end_time": "2022-09-02T22:26:48.396830",
     "exception": false,
     "start_time": "2022-09-02T22:26:48.375250",
     "status": "completed"
    },
    "tags": []
   },
   "source": [
    "**What are the 10 movies with the highest number of votes?**"
   ]
  },
  {
   "cell_type": "code",
   "execution_count": 12,
   "id": "b5f6e2da",
   "metadata": {
    "execution": {
     "iopub.execute_input": "2022-09-02T22:26:48.442779Z",
     "iopub.status.busy": "2022-09-02T22:26:48.441830Z",
     "iopub.status.idle": "2022-09-02T22:26:48.459136Z",
     "shell.execute_reply": "2022-09-02T22:26:48.457723Z"
    },
    "papermill": {
     "duration": 0.042952,
     "end_time": "2022-09-02T22:26:48.461688",
     "exception": false,
     "start_time": "2022-09-02T22:26:48.418736",
     "status": "completed"
    },
    "tags": []
   },
   "outputs": [
    {
     "data": {
      "text/html": [
       "<div>\n",
       "<style scoped>\n",
       "    .dataframe tbody tr th:only-of-type {\n",
       "        vertical-align: middle;\n",
       "    }\n",
       "\n",
       "    .dataframe tbody tr th {\n",
       "        vertical-align: top;\n",
       "    }\n",
       "\n",
       "    .dataframe thead th {\n",
       "        text-align: right;\n",
       "    }\n",
       "</style>\n",
       "<table border=\"1\" class=\"dataframe\">\n",
       "  <thead>\n",
       "    <tr style=\"text-align: right;\">\n",
       "      <th></th>\n",
       "      <th>FILM</th>\n",
       "      <th>STARS</th>\n",
       "      <th>RATING</th>\n",
       "      <th>VOTES</th>\n",
       "      <th>YEAR</th>\n",
       "    </tr>\n",
       "  </thead>\n",
       "  <tbody>\n",
       "    <tr>\n",
       "      <th>0</th>\n",
       "      <td>Fifty Shades of Grey (2015)</td>\n",
       "      <td>4.0</td>\n",
       "      <td>3.9</td>\n",
       "      <td>34846</td>\n",
       "      <td>2015</td>\n",
       "    </tr>\n",
       "    <tr>\n",
       "      <th>1</th>\n",
       "      <td>Jurassic World (2015)</td>\n",
       "      <td>4.5</td>\n",
       "      <td>4.5</td>\n",
       "      <td>34390</td>\n",
       "      <td>2015</td>\n",
       "    </tr>\n",
       "    <tr>\n",
       "      <th>2</th>\n",
       "      <td>American Sniper (2015)</td>\n",
       "      <td>5.0</td>\n",
       "      <td>4.8</td>\n",
       "      <td>34085</td>\n",
       "      <td>2015</td>\n",
       "    </tr>\n",
       "    <tr>\n",
       "      <th>3</th>\n",
       "      <td>Furious 7 (2015)</td>\n",
       "      <td>5.0</td>\n",
       "      <td>4.8</td>\n",
       "      <td>33538</td>\n",
       "      <td>2015</td>\n",
       "    </tr>\n",
       "    <tr>\n",
       "      <th>4</th>\n",
       "      <td>Inside Out (2015)</td>\n",
       "      <td>4.5</td>\n",
       "      <td>4.5</td>\n",
       "      <td>15749</td>\n",
       "      <td>2015</td>\n",
       "    </tr>\n",
       "    <tr>\n",
       "      <th>5</th>\n",
       "      <td>The Hobbit: The Battle of the Five Armies (2014)</td>\n",
       "      <td>4.5</td>\n",
       "      <td>4.3</td>\n",
       "      <td>15337</td>\n",
       "      <td>2014</td>\n",
       "    </tr>\n",
       "    <tr>\n",
       "      <th>6</th>\n",
       "      <td>Kingsman: The Secret Service (2015)</td>\n",
       "      <td>4.5</td>\n",
       "      <td>4.2</td>\n",
       "      <td>15205</td>\n",
       "      <td>2015</td>\n",
       "    </tr>\n",
       "    <tr>\n",
       "      <th>7</th>\n",
       "      <td>Minions (2015)</td>\n",
       "      <td>4.0</td>\n",
       "      <td>4.0</td>\n",
       "      <td>14998</td>\n",
       "      <td>2015</td>\n",
       "    </tr>\n",
       "    <tr>\n",
       "      <th>8</th>\n",
       "      <td>Avengers: Age of Ultron (2015)</td>\n",
       "      <td>5.0</td>\n",
       "      <td>4.5</td>\n",
       "      <td>14846</td>\n",
       "      <td>2015</td>\n",
       "    </tr>\n",
       "    <tr>\n",
       "      <th>9</th>\n",
       "      <td>Into the Woods (2014)</td>\n",
       "      <td>3.5</td>\n",
       "      <td>3.4</td>\n",
       "      <td>13055</td>\n",
       "      <td>2014</td>\n",
       "    </tr>\n",
       "  </tbody>\n",
       "</table>\n",
       "</div>"
      ],
      "text/plain": [
       "                                               FILM  STARS  RATING  VOTES  \\\n",
       "0                       Fifty Shades of Grey (2015)    4.0     3.9  34846   \n",
       "1                             Jurassic World (2015)    4.5     4.5  34390   \n",
       "2                            American Sniper (2015)    5.0     4.8  34085   \n",
       "3                                  Furious 7 (2015)    5.0     4.8  33538   \n",
       "4                                 Inside Out (2015)    4.5     4.5  15749   \n",
       "5  The Hobbit: The Battle of the Five Armies (2014)    4.5     4.3  15337   \n",
       "6               Kingsman: The Secret Service (2015)    4.5     4.2  15205   \n",
       "7                                    Minions (2015)    4.0     4.0  14998   \n",
       "8                    Avengers: Age of Ultron (2015)    5.0     4.5  14846   \n",
       "9                             Into the Woods (2014)    3.5     3.4  13055   \n",
       "\n",
       "   YEAR  \n",
       "0  2015  \n",
       "1  2015  \n",
       "2  2015  \n",
       "3  2015  \n",
       "4  2015  \n",
       "5  2014  \n",
       "6  2015  \n",
       "7  2015  \n",
       "8  2015  \n",
       "9  2014  "
      ]
     },
     "execution_count": 12,
     "metadata": {},
     "output_type": "execute_result"
    }
   ],
   "source": [
    "fandango.sort_values('VOTES', ascending=False).head(10)"
   ]
  },
  {
   "cell_type": "markdown",
   "id": "2ba11f9c",
   "metadata": {
    "papermill": {
     "duration": 0.021798,
     "end_time": "2022-09-02T22:26:48.505486",
     "exception": false,
     "start_time": "2022-09-02T22:26:48.483688",
     "status": "completed"
    },
    "tags": []
   },
   "source": [
    "**How many movies have zero votes?**"
   ]
  },
  {
   "cell_type": "code",
   "execution_count": 13,
   "id": "79a3ab90",
   "metadata": {
    "execution": {
     "iopub.execute_input": "2022-09-02T22:26:48.551309Z",
     "iopub.status.busy": "2022-09-02T22:26:48.550442Z",
     "iopub.status.idle": "2022-09-02T22:26:48.559664Z",
     "shell.execute_reply": "2022-09-02T22:26:48.558643Z"
    },
    "papermill": {
     "duration": 0.035133,
     "end_time": "2022-09-02T22:26:48.562180",
     "exception": false,
     "start_time": "2022-09-02T22:26:48.527047",
     "status": "completed"
    },
    "tags": []
   },
   "outputs": [
    {
     "data": {
      "text/plain": [
       "69"
      ]
     },
     "execution_count": 13,
     "metadata": {},
     "output_type": "execute_result"
    }
   ],
   "source": [
    "len(fandango[fandango['VOTES'] == 0])"
   ]
  },
  {
   "cell_type": "markdown",
   "id": "61953e48",
   "metadata": {
    "papermill": {
     "duration": 0.021577,
     "end_time": "2022-09-02T22:26:48.605515",
     "exception": false,
     "start_time": "2022-09-02T22:26:48.583938",
     "status": "completed"
    },
    "tags": []
   },
   "source": [
    "**Let's create DataFrame of only reviewed films by removing any films that have zero votes.**"
   ]
  },
  {
   "cell_type": "code",
   "execution_count": 14,
   "id": "72805ef3",
   "metadata": {
    "execution": {
     "iopub.execute_input": "2022-09-02T22:26:48.652449Z",
     "iopub.status.busy": "2022-09-02T22:26:48.651572Z",
     "iopub.status.idle": "2022-09-02T22:26:48.658376Z",
     "shell.execute_reply": "2022-09-02T22:26:48.657335Z"
    },
    "papermill": {
     "duration": 0.033833,
     "end_time": "2022-09-02T22:26:48.660926",
     "exception": false,
     "start_time": "2022-09-02T22:26:48.627093",
     "status": "completed"
    },
    "tags": []
   },
   "outputs": [],
   "source": [
    "fandango_votes = fandango[fandango['VOTES']>0]"
   ]
  },
  {
   "cell_type": "markdown",
   "id": "c307b1ba",
   "metadata": {
    "papermill": {
     "duration": 0.021461,
     "end_time": "2022-09-02T22:26:48.704372",
     "exception": false,
     "start_time": "2022-09-02T22:26:48.682911",
     "status": "completed"
    },
    "tags": []
   },
   "source": [
    "----\n",
    "\n",
    "**As noted in the article, due to HTML and star rating displays, the true user rating may be slightly different than the rating shown to a user. Let's visualize this difference in distributions.**\n",
    "\n",
    "**Let's create a KDE plot (or multiple kdeplots) that displays the distribution of ratings that are displayed (STARS) versus what the true rating was from votes (RATING). Clip the KDEs to 0-5.**"
   ]
  },
  {
   "cell_type": "code",
   "execution_count": 15,
   "id": "c8370e16",
   "metadata": {
    "execution": {
     "iopub.execute_input": "2022-09-02T22:26:48.750551Z",
     "iopub.status.busy": "2022-09-02T22:26:48.749682Z",
     "iopub.status.idle": "2022-09-02T22:26:49.106853Z",
     "shell.execute_reply": "2022-09-02T22:26:49.105467Z"
    },
    "papermill": {
     "duration": 0.383393,
     "end_time": "2022-09-02T22:26:49.109493",
     "exception": false,
     "start_time": "2022-09-02T22:26:48.726100",
     "status": "completed"
    },
    "tags": []
   },
   "outputs": [
    {
     "data": {
      "image/png": "[encoded data removed]",
      "text/plain": [
       "<Figure size 936x432 with 1 Axes>"
      ]
     },
     "metadata": {
      "needs_background": "light"
     },
     "output_type": "display_data"
    }
   ],
   "source": [
    "plt.figure(figsize=(13,6))\n",
    "sns.kdeplot(data=fandango_votes,x='RATING',clip=[0,5],shade=True,label='True Rating')\n",
    "sns.kdeplot(data=fandango_votes,x='STARS',clip=[0,5],shade=True, label='Stars Displayed')\n",
    "\n",
    "plt.legend(bbox_to_anchor=(1.2, 0.7));"
   ]
  },
  {
   "cell_type": "markdown",
   "id": "0e1adb91",
   "metadata": {
    "papermill": {
     "duration": 0.023336,
     "end_time": "2022-09-02T22:26:49.156443",
     "exception": false,
     "start_time": "2022-09-02T22:26:49.133107",
     "status": "completed"
    },
    "tags": []
   },
   "source": [
    "**Let's now actually quantify this discrepancy. We will create a new column of the difference between STARS displayed versus true RATING. Calculating this difference with STARS-RATING and rounding these differences to the nearest decimal point.**"
   ]
  },
  {
   "cell_type": "code",
   "execution_count": 16,
   "id": "86db2df4",
   "metadata": {
    "execution": {
     "iopub.execute_input": "2022-09-02T22:26:49.205272Z",
     "iopub.status.busy": "2022-09-02T22:26:49.204803Z",
     "iopub.status.idle": "2022-09-02T22:26:49.214376Z",
     "shell.execute_reply": "2022-09-02T22:26:49.212281Z"
    },
    "papermill": {
     "duration": 0.0373,
     "end_time": "2022-09-02T22:26:49.217477",
     "exception": false,
     "start_time": "2022-09-02T22:26:49.180177",
     "status": "completed"
    },
    "tags": []
   },
   "outputs": [
    {
     "name": "stderr",
     "output_type": "stream",
     "text": [
      "/opt/conda/lib/python3.7/site-packages/ipykernel_launcher.py:1: SettingWithCopyWarning: \n",
      "A value is trying to be set on a copy of a slice from a DataFrame.\n",
      "Try using .loc[row_indexer,col_indexer] = value instead\n",
      "\n",
      "See the caveats in the documentation: https://pandas.pydata.org/pandas-docs/stable/user_guide/indexing.html#returning-a-view-versus-a-copy\n",
      "  \"\"\"Entry point for launching an IPython kernel.\n"
     ]
    }
   ],
   "source": [
    "fandango_votes['STARS_DIFF'] = round(fandango_votes['STARS'] - fandango_votes['RATING'],1)"
   ]
  },
  {
   "cell_type": "code",
   "execution_count": 17,
   "id": "8efc1444",
   "metadata": {
    "execution": {
     "iopub.execute_input": "2022-09-02T22:26:49.265852Z",
     "iopub.status.busy": "2022-09-02T22:26:49.264720Z",
     "iopub.status.idle": "2022-09-02T22:26:49.287934Z",
     "shell.execute_reply": "2022-09-02T22:26:49.286533Z"
    },
    "papermill": {
     "duration": 0.050235,
     "end_time": "2022-09-02T22:26:49.290645",
     "exception": false,
     "start_time": "2022-09-02T22:26:49.240410",
     "status": "completed"
    },
    "tags": []
   },
   "outputs": [
    {
     "data": {
      "text/html": [
       "<div>\n",
       "<style scoped>\n",
       "    .dataframe tbody tr th:only-of-type {\n",
       "        vertical-align: middle;\n",
       "    }\n",
       "\n",
       "    .dataframe tbody tr th {\n",
       "        vertical-align: top;\n",
       "    }\n",
       "\n",
       "    .dataframe thead th {\n",
       "        text-align: right;\n",
       "    }\n",
       "</style>\n",
       "<table border=\"1\" class=\"dataframe\">\n",
       "  <thead>\n",
       "    <tr style=\"text-align: right;\">\n",
       "      <th></th>\n",
       "      <th>FILM</th>\n",
       "      <th>STARS</th>\n",
       "      <th>RATING</th>\n",
       "      <th>VOTES</th>\n",
       "      <th>YEAR</th>\n",
       "      <th>STARS_DIFF</th>\n",
       "    </tr>\n",
       "  </thead>\n",
       "  <tbody>\n",
       "    <tr>\n",
       "      <th>0</th>\n",
       "      <td>Fifty Shades of Grey (2015)</td>\n",
       "      <td>4.0</td>\n",
       "      <td>3.9</td>\n",
       "      <td>34846</td>\n",
       "      <td>2015</td>\n",
       "      <td>0.1</td>\n",
       "    </tr>\n",
       "    <tr>\n",
       "      <th>1</th>\n",
       "      <td>Jurassic World (2015)</td>\n",
       "      <td>4.5</td>\n",
       "      <td>4.5</td>\n",
       "      <td>34390</td>\n",
       "      <td>2015</td>\n",
       "      <td>0.0</td>\n",
       "    </tr>\n",
       "    <tr>\n",
       "      <th>2</th>\n",
       "      <td>American Sniper (2015)</td>\n",
       "      <td>5.0</td>\n",
       "      <td>4.8</td>\n",
       "      <td>34085</td>\n",
       "      <td>2015</td>\n",
       "      <td>0.2</td>\n",
       "    </tr>\n",
       "    <tr>\n",
       "      <th>3</th>\n",
       "      <td>Furious 7 (2015)</td>\n",
       "      <td>5.0</td>\n",
       "      <td>4.8</td>\n",
       "      <td>33538</td>\n",
       "      <td>2015</td>\n",
       "      <td>0.2</td>\n",
       "    </tr>\n",
       "    <tr>\n",
       "      <th>4</th>\n",
       "      <td>Inside Out (2015)</td>\n",
       "      <td>4.5</td>\n",
       "      <td>4.5</td>\n",
       "      <td>15749</td>\n",
       "      <td>2015</td>\n",
       "      <td>0.0</td>\n",
       "    </tr>\n",
       "    <tr>\n",
       "      <th>...</th>\n",
       "      <td>...</td>\n",
       "      <td>...</td>\n",
       "      <td>...</td>\n",
       "      <td>...</td>\n",
       "      <td>...</td>\n",
       "      <td>...</td>\n",
       "    </tr>\n",
       "    <tr>\n",
       "      <th>430</th>\n",
       "      <td>That Sugar Film (2015)</td>\n",
       "      <td>5.0</td>\n",
       "      <td>5.0</td>\n",
       "      <td>1</td>\n",
       "      <td>2015</td>\n",
       "      <td>0.0</td>\n",
       "    </tr>\n",
       "    <tr>\n",
       "      <th>431</th>\n",
       "      <td>The Intern (2015)</td>\n",
       "      <td>5.0</td>\n",
       "      <td>5.0</td>\n",
       "      <td>1</td>\n",
       "      <td>2015</td>\n",
       "      <td>0.0</td>\n",
       "    </tr>\n",
       "    <tr>\n",
       "      <th>432</th>\n",
       "      <td>The Park Bench (2015)</td>\n",
       "      <td>5.0</td>\n",
       "      <td>5.0</td>\n",
       "      <td>1</td>\n",
       "      <td>2015</td>\n",
       "      <td>0.0</td>\n",
       "    </tr>\n",
       "    <tr>\n",
       "      <th>433</th>\n",
       "      <td>The Wanted 18 (2015)</td>\n",
       "      <td>5.0</td>\n",
       "      <td>5.0</td>\n",
       "      <td>1</td>\n",
       "      <td>2015</td>\n",
       "      <td>0.0</td>\n",
       "    </tr>\n",
       "    <tr>\n",
       "      <th>434</th>\n",
       "      <td>Z For Zachariah (2015)</td>\n",
       "      <td>5.0</td>\n",
       "      <td>5.0</td>\n",
       "      <td>1</td>\n",
       "      <td>2015</td>\n",
       "      <td>0.0</td>\n",
       "    </tr>\n",
       "  </tbody>\n",
       "</table>\n",
       "<p>435 rows × 6 columns</p>\n",
       "</div>"
      ],
      "text/plain": [
       "                            FILM  STARS  RATING  VOTES  YEAR  STARS_DIFF\n",
       "0    Fifty Shades of Grey (2015)    4.0     3.9  34846  2015         0.1\n",
       "1          Jurassic World (2015)    4.5     4.5  34390  2015         0.0\n",
       "2         American Sniper (2015)    5.0     4.8  34085  2015         0.2\n",
       "3               Furious 7 (2015)    5.0     4.8  33538  2015         0.2\n",
       "4              Inside Out (2015)    4.5     4.5  15749  2015         0.0\n",
       "..                           ...    ...     ...    ...   ...         ...\n",
       "430       That Sugar Film (2015)    5.0     5.0      1  2015         0.0\n",
       "431            The Intern (2015)    5.0     5.0      1  2015         0.0\n",
       "432        The Park Bench (2015)    5.0     5.0      1  2015         0.0\n",
       "433         The Wanted 18 (2015)    5.0     5.0      1  2015         0.0\n",
       "434       Z For Zachariah (2015)    5.0     5.0      1  2015         0.0\n",
       "\n",
       "[435 rows x 6 columns]"
      ]
     },
     "execution_count": 17,
     "metadata": {},
     "output_type": "execute_result"
    }
   ],
   "source": [
    "fandango_votes"
   ]
  },
  {
   "cell_type": "markdown",
   "id": "51303be3",
   "metadata": {
    "papermill": {
     "duration": 0.023209,
     "end_time": "2022-09-02T22:26:49.337330",
     "exception": false,
     "start_time": "2022-09-02T22:26:49.314121",
     "status": "completed"
    },
    "tags": []
   },
   "source": [
    "**Count plot to display the number of times a certain difference occurs:**"
   ]
  },
  {
   "cell_type": "code",
   "execution_count": 18,
   "id": "6e79aba8",
   "metadata": {
    "execution": {
     "iopub.execute_input": "2022-09-02T22:26:49.385609Z",
     "iopub.status.busy": "2022-09-02T22:26:49.385180Z",
     "iopub.status.idle": "2022-09-02T22:26:49.595442Z",
     "shell.execute_reply": "2022-09-02T22:26:49.593963Z"
    },
    "papermill": {
     "duration": 0.237777,
     "end_time": "2022-09-02T22:26:49.598242",
     "exception": false,
     "start_time": "2022-09-02T22:26:49.360465",
     "status": "completed"
    },
    "tags": []
   },
   "outputs": [
    {
     "data": {
      "image/png": "[encoded data removed]",
      "text/plain": [
       "<Figure size 936x432 with 1 Axes>"
      ]
     },
     "metadata": {
      "needs_background": "light"
     },
     "output_type": "display_data"
    }
   ],
   "source": [
    "plt.figure(figsize=(13,6))\n",
    "sns.countplot(data=fandango_votes, x='STARS_DIFF');"
   ]
  },
  {
   "cell_type": "code",
   "execution_count": 19,
   "id": "e4c11c93",
   "metadata": {
    "execution": {
     "iopub.execute_input": "2022-09-02T22:26:49.647753Z",
     "iopub.status.busy": "2022-09-02T22:26:49.647330Z",
     "iopub.status.idle": "2022-09-02T22:26:49.665989Z",
     "shell.execute_reply": "2022-09-02T22:26:49.665022Z"
    },
    "papermill": {
     "duration": 0.047451,
     "end_time": "2022-09-02T22:26:49.668835",
     "exception": false,
     "start_time": "2022-09-02T22:26:49.621384",
     "status": "completed"
    },
    "tags": []
   },
   "outputs": [
    {
     "data": {
      "text/html": [
       "<div>\n",
       "<style scoped>\n",
       "    .dataframe tbody tr th:only-of-type {\n",
       "        vertical-align: middle;\n",
       "    }\n",
       "\n",
       "    .dataframe tbody tr th {\n",
       "        vertical-align: top;\n",
       "    }\n",
       "\n",
       "    .dataframe thead th {\n",
       "        text-align: right;\n",
       "    }\n",
       "</style>\n",
       "<table border=\"1\" class=\"dataframe\">\n",
       "  <thead>\n",
       "    <tr style=\"text-align: right;\">\n",
       "      <th></th>\n",
       "      <th>FILM</th>\n",
       "      <th>STARS</th>\n",
       "      <th>RATING</th>\n",
       "      <th>VOTES</th>\n",
       "      <th>YEAR</th>\n",
       "      <th>STARS_DIFF</th>\n",
       "    </tr>\n",
       "  </thead>\n",
       "  <tbody>\n",
       "    <tr>\n",
       "      <th>381</th>\n",
       "      <td>Turbo Kid (2015)</td>\n",
       "      <td>5.0</td>\n",
       "      <td>4.0</td>\n",
       "      <td>2</td>\n",
       "      <td>2015</td>\n",
       "      <td>1.0</td>\n",
       "    </tr>\n",
       "  </tbody>\n",
       "</table>\n",
       "</div>"
      ],
      "text/plain": [
       "                 FILM  STARS  RATING  VOTES  YEAR  STARS_DIFF\n",
       "381  Turbo Kid (2015)    5.0     4.0      2  2015         1.0"
      ]
     },
     "execution_count": 19,
     "metadata": {},
     "output_type": "execute_result"
    }
   ],
   "source": [
    "fandango_votes[fandango_votes['STARS_DIFF']==1]"
   ]
  },
  {
   "cell_type": "markdown",
   "id": "8abfeb77",
   "metadata": {
    "papermill": {
     "duration": 0.022963,
     "end_time": "2022-09-02T22:26:49.715325",
     "exception": false,
     "start_time": "2022-09-02T22:26:49.692362",
     "status": "completed"
    },
    "tags": []
   },
   "source": [
    "## Part Three: Comparison of Fandango Ratings to Other Sites\n",
    "\n",
    "Let's now compare the scores from Fandango to other movies sites and see how they compare.\n",
    "\n",
    "**Read in the \"all_sites_scores.csv\" file**"
   ]
  },
  {
   "cell_type": "code",
   "execution_count": 20,
   "id": "b1704a7a",
   "metadata": {
    "execution": {
     "iopub.execute_input": "2022-09-02T22:26:49.763913Z",
     "iopub.status.busy": "2022-09-02T22:26:49.763498Z",
     "iopub.status.idle": "2022-09-02T22:26:49.777084Z",
     "shell.execute_reply": "2022-09-02T22:26:49.776050Z"
    },
    "papermill": {
     "duration": 0.041816,
     "end_time": "2022-09-02T22:26:49.780247",
     "exception": false,
     "start_time": "2022-09-02T22:26:49.738431",
     "status": "completed"
    },
    "tags": []
   },
   "outputs": [],
   "source": [
    "all_sites = pd.read_csv(\"../input/all-sites-scores/all_sites_scores.csv\")"
   ]
  },
  {
   "cell_type": "markdown",
   "id": "f2b6188e",
   "metadata": {
    "papermill": {
     "duration": 0.022815,
     "end_time": "2022-09-02T22:26:49.826488",
     "exception": false,
     "start_time": "2022-09-02T22:26:49.803673",
     "status": "completed"
    },
    "tags": []
   },
   "source": [
    "**Let's Explore the DataFrame columns, info, description.**"
   ]
  },
  {
   "cell_type": "code",
   "execution_count": 21,
   "id": "5e23ff81",
   "metadata": {
    "execution": {
     "iopub.execute_input": "2022-09-02T22:26:49.875527Z",
     "iopub.status.busy": "2022-09-02T22:26:49.874764Z",
     "iopub.status.idle": "2022-09-02T22:26:49.889367Z",
     "shell.execute_reply": "2022-09-02T22:26:49.888249Z"
    },
    "papermill": {
     "duration": 0.041683,
     "end_time": "2022-09-02T22:26:49.891701",
     "exception": false,
     "start_time": "2022-09-02T22:26:49.850018",
     "status": "completed"
    },
    "tags": []
   },
   "outputs": [
    {
     "data": {
      "text/html": [
       "<div>\n",
       "<style scoped>\n",
       "    .dataframe tbody tr th:only-of-type {\n",
       "        vertical-align: middle;\n",
       "    }\n",
       "\n",
       "    .dataframe tbody tr th {\n",
       "        vertical-align: top;\n",
       "    }\n",
       "\n",
       "    .dataframe thead th {\n",
       "        text-align: right;\n",
       "    }\n",
       "</style>\n",
       "<table border=\"1\" class=\"dataframe\">\n",
       "  <thead>\n",
       "    <tr style=\"text-align: right;\">\n",
       "      <th></th>\n",
       "      <th>FILM</th>\n",
       "      <th>RottenTomatoes</th>\n",
       "      <th>RottenTomatoes_User</th>\n",
       "      <th>Metacritic</th>\n",
       "      <th>Metacritic_User</th>\n",
       "      <th>IMDB</th>\n",
       "      <th>Metacritic_user_vote_count</th>\n",
       "      <th>IMDB_user_vote_count</th>\n",
       "    </tr>\n",
       "  </thead>\n",
       "  <tbody>\n",
       "    <tr>\n",
       "      <th>0</th>\n",
       "      <td>Avengers: Age of Ultron (2015)</td>\n",
       "      <td>74</td>\n",
       "      <td>86</td>\n",
       "      <td>66</td>\n",
       "      <td>7.1</td>\n",
       "      <td>7.8</td>\n",
       "      <td>1330</td>\n",
       "      <td>271107</td>\n",
       "    </tr>\n",
       "    <tr>\n",
       "      <th>1</th>\n",
       "      <td>Cinderella (2015)</td>\n",
       "      <td>85</td>\n",
       "      <td>80</td>\n",
       "      <td>67</td>\n",
       "      <td>7.5</td>\n",
       "      <td>7.1</td>\n",
       "      <td>249</td>\n",
       "      <td>65709</td>\n",
       "    </tr>\n",
       "    <tr>\n",
       "      <th>2</th>\n",
       "      <td>Ant-Man (2015)</td>\n",
       "      <td>80</td>\n",
       "      <td>90</td>\n",
       "      <td>64</td>\n",
       "      <td>8.1</td>\n",
       "      <td>7.8</td>\n",
       "      <td>627</td>\n",
       "      <td>103660</td>\n",
       "    </tr>\n",
       "    <tr>\n",
       "      <th>3</th>\n",
       "      <td>Do You Believe? (2015)</td>\n",
       "      <td>18</td>\n",
       "      <td>84</td>\n",
       "      <td>22</td>\n",
       "      <td>4.7</td>\n",
       "      <td>5.4</td>\n",
       "      <td>31</td>\n",
       "      <td>3136</td>\n",
       "    </tr>\n",
       "    <tr>\n",
       "      <th>4</th>\n",
       "      <td>Hot Tub Time Machine 2 (2015)</td>\n",
       "      <td>14</td>\n",
       "      <td>28</td>\n",
       "      <td>29</td>\n",
       "      <td>3.4</td>\n",
       "      <td>5.1</td>\n",
       "      <td>88</td>\n",
       "      <td>19560</td>\n",
       "    </tr>\n",
       "  </tbody>\n",
       "</table>\n",
       "</div>"
      ],
      "text/plain": [
       "                             FILM  RottenTomatoes  RottenTomatoes_User  \\\n",
       "0  Avengers: Age of Ultron (2015)              74                   86   \n",
       "1               Cinderella (2015)              85                   80   \n",
       "2                  Ant-Man (2015)              80                   90   \n",
       "3          Do You Believe? (2015)              18                   84   \n",
       "4   Hot Tub Time Machine 2 (2015)              14                   28   \n",
       "\n",
       "   Metacritic  Metacritic_User  IMDB  Metacritic_user_vote_count  \\\n",
       "0          66              7.1   7.8                        1330   \n",
       "1          67              7.5   7.1                         249   \n",
       "2          64              8.1   7.8                         627   \n",
       "3          22              4.7   5.4                          31   \n",
       "4          29              3.4   5.1                          88   \n",
       "\n",
       "   IMDB_user_vote_count  \n",
       "0                271107  \n",
       "1                 65709  \n",
       "2                103660  \n",
       "3                  3136  \n",
       "4                 19560  "
      ]
     },
     "execution_count": 21,
     "metadata": {},
     "output_type": "execute_result"
    }
   ],
   "source": [
    "all_sites.head()"
   ]
  },
  {
   "cell_type": "code",
   "execution_count": 22,
   "id": "8ec8ebac",
   "metadata": {
    "execution": {
     "iopub.execute_input": "2022-09-02T22:26:49.941651Z",
     "iopub.status.busy": "2022-09-02T22:26:49.940865Z",
     "iopub.status.idle": "2022-09-02T22:26:49.955164Z",
     "shell.execute_reply": "2022-09-02T22:26:49.953942Z"
    },
    "papermill": {
     "duration": 0.042661,
     "end_time": "2022-09-02T22:26:49.957786",
     "exception": false,
     "start_time": "2022-09-02T22:26:49.915125",
     "status": "completed"
    },
    "tags": []
   },
   "outputs": [
    {
     "name": "stdout",
     "output_type": "stream",
     "text": [
      "<class 'pandas.core.frame.DataFrame'>\n",
      "RangeIndex: 146 entries, 0 to 145\n",
      "Data columns (total 8 columns):\n",
      " #   Column                      Non-Null Count  Dtype  \n",
      "---  ------                      --------------  -----  \n",
      " 0   FILM                        146 non-null    object \n",
      " 1   RottenTomatoes              146 non-null    int64  \n",
      " 2   RottenTomatoes_User         146 non-null    int64  \n",
      " 3   Metacritic                  146 non-null    int64  \n",
      " 4   Metacritic_User             146 non-null    float64\n",
      " 5   IMDB                        146 non-null    float64\n",
      " 6   Metacritic_user_vote_count  146 non-null    int64  \n",
      " 7   IMDB_user_vote_count        146 non-null    int64  \n",
      "dtypes: float64(2), int64(5), object(1)\n",
      "memory usage: 9.2+ KB\n"
     ]
    }
   ],
   "source": [
    "all_sites.info()"
   ]
  },
  {
   "cell_type": "code",
   "execution_count": 23,
   "id": "517b75c2",
   "metadata": {
    "execution": {
     "iopub.execute_input": "2022-09-02T22:26:50.007175Z",
     "iopub.status.busy": "2022-09-02T22:26:50.006671Z",
     "iopub.status.idle": "2022-09-02T22:26:50.046879Z",
     "shell.execute_reply": "2022-09-02T22:26:50.045427Z"
    },
    "papermill": {
     "duration": 0.068327,
     "end_time": "2022-09-02T22:26:50.049694",
     "exception": false,
     "start_time": "2022-09-02T22:26:49.981367",
     "status": "completed"
    },
    "tags": []
   },
   "outputs": [
    {
     "data": {
      "text/html": [
       "<div>\n",
       "<style scoped>\n",
       "    .dataframe tbody tr th:only-of-type {\n",
       "        vertical-align: middle;\n",
       "    }\n",
       "\n",
       "    .dataframe tbody tr th {\n",
       "        vertical-align: top;\n",
       "    }\n",
       "\n",
       "    .dataframe thead th {\n",
       "        text-align: right;\n",
       "    }\n",
       "</style>\n",
       "<table border=\"1\" class=\"dataframe\">\n",
       "  <thead>\n",
       "    <tr style=\"text-align: right;\">\n",
       "      <th></th>\n",
       "      <th>RottenTomatoes</th>\n",
       "      <th>RottenTomatoes_User</th>\n",
       "      <th>Metacritic</th>\n",
       "      <th>Metacritic_User</th>\n",
       "      <th>IMDB</th>\n",
       "      <th>Metacritic_user_vote_count</th>\n",
       "      <th>IMDB_user_vote_count</th>\n",
       "    </tr>\n",
       "  </thead>\n",
       "  <tbody>\n",
       "    <tr>\n",
       "      <th>count</th>\n",
       "      <td>146.000000</td>\n",
       "      <td>146.000000</td>\n",
       "      <td>146.000000</td>\n",
       "      <td>146.000000</td>\n",
       "      <td>146.000000</td>\n",
       "      <td>146.000000</td>\n",
       "      <td>146.000000</td>\n",
       "    </tr>\n",
       "    <tr>\n",
       "      <th>mean</th>\n",
       "      <td>60.849315</td>\n",
       "      <td>63.876712</td>\n",
       "      <td>58.808219</td>\n",
       "      <td>6.519178</td>\n",
       "      <td>6.736986</td>\n",
       "      <td>185.705479</td>\n",
       "      <td>42846.205479</td>\n",
       "    </tr>\n",
       "    <tr>\n",
       "      <th>std</th>\n",
       "      <td>30.168799</td>\n",
       "      <td>20.024430</td>\n",
       "      <td>19.517389</td>\n",
       "      <td>1.510712</td>\n",
       "      <td>0.958736</td>\n",
       "      <td>316.606515</td>\n",
       "      <td>67406.509171</td>\n",
       "    </tr>\n",
       "    <tr>\n",
       "      <th>min</th>\n",
       "      <td>5.000000</td>\n",
       "      <td>20.000000</td>\n",
       "      <td>13.000000</td>\n",
       "      <td>2.400000</td>\n",
       "      <td>4.000000</td>\n",
       "      <td>4.000000</td>\n",
       "      <td>243.000000</td>\n",
       "    </tr>\n",
       "    <tr>\n",
       "      <th>25%</th>\n",
       "      <td>31.250000</td>\n",
       "      <td>50.000000</td>\n",
       "      <td>43.500000</td>\n",
       "      <td>5.700000</td>\n",
       "      <td>6.300000</td>\n",
       "      <td>33.250000</td>\n",
       "      <td>5627.000000</td>\n",
       "    </tr>\n",
       "    <tr>\n",
       "      <th>50%</th>\n",
       "      <td>63.500000</td>\n",
       "      <td>66.500000</td>\n",
       "      <td>59.000000</td>\n",
       "      <td>6.850000</td>\n",
       "      <td>6.900000</td>\n",
       "      <td>72.500000</td>\n",
       "      <td>19103.000000</td>\n",
       "    </tr>\n",
       "    <tr>\n",
       "      <th>75%</th>\n",
       "      <td>89.000000</td>\n",
       "      <td>81.000000</td>\n",
       "      <td>75.000000</td>\n",
       "      <td>7.500000</td>\n",
       "      <td>7.400000</td>\n",
       "      <td>168.500000</td>\n",
       "      <td>45185.750000</td>\n",
       "    </tr>\n",
       "    <tr>\n",
       "      <th>max</th>\n",
       "      <td>100.000000</td>\n",
       "      <td>94.000000</td>\n",
       "      <td>94.000000</td>\n",
       "      <td>9.600000</td>\n",
       "      <td>8.600000</td>\n",
       "      <td>2375.000000</td>\n",
       "      <td>334164.000000</td>\n",
       "    </tr>\n",
       "  </tbody>\n",
       "</table>\n",
       "</div>"
      ],
      "text/plain": [
       "       RottenTomatoes  RottenTomatoes_User  Metacritic  Metacritic_User  \\\n",
       "count      146.000000           146.000000  146.000000       146.000000   \n",
       "mean        60.849315            63.876712   58.808219         6.519178   \n",
       "std         30.168799            20.024430   19.517389         1.510712   \n",
       "min          5.000000            20.000000   13.000000         2.400000   \n",
       "25%         31.250000            50.000000   43.500000         5.700000   \n",
       "50%         63.500000            66.500000   59.000000         6.850000   \n",
       "75%         89.000000            81.000000   75.000000         7.500000   \n",
       "max        100.000000            94.000000   94.000000         9.600000   \n",
       "\n",
       "             IMDB  Metacritic_user_vote_count  IMDB_user_vote_count  \n",
       "count  146.000000                  146.000000            146.000000  \n",
       "mean     6.736986                  185.705479          42846.205479  \n",
       "std      0.958736                  316.606515          67406.509171  \n",
       "min      4.000000                    4.000000            243.000000  \n",
       "25%      6.300000                   33.250000           5627.000000  \n",
       "50%      6.900000                   72.500000          19103.000000  \n",
       "75%      7.400000                  168.500000          45185.750000  \n",
       "max      8.600000                 2375.000000         334164.000000  "
      ]
     },
     "execution_count": 23,
     "metadata": {},
     "output_type": "execute_result"
    }
   ],
   "source": [
    "all_sites.describe()"
   ]
  },
  {
   "cell_type": "markdown",
   "id": "895e7325",
   "metadata": {
    "papermill": {
     "duration": 0.023484,
     "end_time": "2022-09-02T22:26:50.096830",
     "exception": false,
     "start_time": "2022-09-02T22:26:50.073346",
     "status": "completed"
    },
    "tags": []
   },
   "source": [
    "### Rotten Tomatoes\n",
    "\n",
    "Let's first take a look at Rotten Tomatoes. RT has two sets of reviews, their critics reviews (ratings published by official critics) and user reviews. \n",
    "\n",
    "**Let's create a scatterplot exploring the relationship between RT Critic reviews and RT User reviews.**"
   ]
  },
  {
   "cell_type": "code",
   "execution_count": 24,
   "id": "46cbb104",
   "metadata": {
    "execution": {
     "iopub.execute_input": "2022-09-02T22:26:50.146279Z",
     "iopub.status.busy": "2022-09-02T22:26:50.145786Z",
     "iopub.status.idle": "2022-09-02T22:26:50.441737Z",
     "shell.execute_reply": "2022-09-02T22:26:50.440316Z"
    },
    "papermill": {
     "duration": 0.324089,
     "end_time": "2022-09-02T22:26:50.444524",
     "exception": false,
     "start_time": "2022-09-02T22:26:50.120435",
     "status": "completed"
    },
    "tags": []
   },
   "outputs": [
    {
     "data": {
      "image/png": "[encoded data removed]",
      "text/plain": [
       "<Figure size 936x432 with 1 Axes>"
      ]
     },
     "metadata": {
      "needs_background": "light"
     },
     "output_type": "display_data"
    }
   ],
   "source": [
    "plt.figure(figsize=(13,6))\n",
    "sns.scatterplot(data=all_sites,x='RottenTomatoes',y='RottenTomatoes_User');"
   ]
  },
  {
   "cell_type": "markdown",
   "id": "d0b36a5f",
   "metadata": {
    "papermill": {
     "duration": 0.034145,
     "end_time": "2022-09-02T22:26:50.502830",
     "exception": false,
     "start_time": "2022-09-02T22:26:50.468685",
     "status": "completed"
    },
    "tags": []
   },
   "source": [
    "Let's quantify this difference by comparing the critics ratings and the RT User ratings. We will calculate this with RottenTomatoes-RottenTomatoes_User. Note: Rotten_Diff here is Critics - User Score. So values closer to 0 means aggrement between Critics and Users. Larger positive values means critics rated much higher than users. Larger negative values means users rated much higher than critics.\n",
    "\n",
    "**We will need to create a new column based off the difference between critics ratings and users ratings for Rotten Tomatoes. Calculating this with RottenTomatoes-RottenTomatoes_User**"
   ]
  },
  {
   "cell_type": "code",
   "execution_count": 25,
   "id": "61ad4994",
   "metadata": {
    "execution": {
     "iopub.execute_input": "2022-09-02T22:26:50.554803Z",
     "iopub.status.busy": "2022-09-02T22:26:50.553518Z",
     "iopub.status.idle": "2022-09-02T22:26:50.560997Z",
     "shell.execute_reply": "2022-09-02T22:26:50.559819Z"
    },
    "papermill": {
     "duration": 0.035631,
     "end_time": "2022-09-02T22:26:50.563573",
     "exception": false,
     "start_time": "2022-09-02T22:26:50.527942",
     "status": "completed"
    },
    "tags": []
   },
   "outputs": [],
   "source": [
    "all_sites['Rotten_Diff'] = all_sites['RottenTomatoes'] - all_sites['RottenTomatoes_User']"
   ]
  },
  {
   "cell_type": "code",
   "execution_count": 26,
   "id": "0991a0cb",
   "metadata": {
    "execution": {
     "iopub.execute_input": "2022-09-02T22:26:50.614253Z",
     "iopub.status.busy": "2022-09-02T22:26:50.613010Z",
     "iopub.status.idle": "2022-09-02T22:26:50.634294Z",
     "shell.execute_reply": "2022-09-02T22:26:50.632843Z"
    },
    "papermill": {
     "duration": 0.049169,
     "end_time": "2022-09-02T22:26:50.636904",
     "exception": false,
     "start_time": "2022-09-02T22:26:50.587735",
     "status": "completed"
    },
    "tags": []
   },
   "outputs": [
    {
     "data": {
      "text/html": [
       "<div>\n",
       "<style scoped>\n",
       "    .dataframe tbody tr th:only-of-type {\n",
       "        vertical-align: middle;\n",
       "    }\n",
       "\n",
       "    .dataframe tbody tr th {\n",
       "        vertical-align: top;\n",
       "    }\n",
       "\n",
       "    .dataframe thead th {\n",
       "        text-align: right;\n",
       "    }\n",
       "</style>\n",
       "<table border=\"1\" class=\"dataframe\">\n",
       "  <thead>\n",
       "    <tr style=\"text-align: right;\">\n",
       "      <th></th>\n",
       "      <th>FILM</th>\n",
       "      <th>RottenTomatoes</th>\n",
       "      <th>RottenTomatoes_User</th>\n",
       "      <th>Metacritic</th>\n",
       "      <th>Metacritic_User</th>\n",
       "      <th>IMDB</th>\n",
       "      <th>Metacritic_user_vote_count</th>\n",
       "      <th>IMDB_user_vote_count</th>\n",
       "      <th>Rotten_Diff</th>\n",
       "    </tr>\n",
       "  </thead>\n",
       "  <tbody>\n",
       "    <tr>\n",
       "      <th>0</th>\n",
       "      <td>Avengers: Age of Ultron (2015)</td>\n",
       "      <td>74</td>\n",
       "      <td>86</td>\n",
       "      <td>66</td>\n",
       "      <td>7.1</td>\n",
       "      <td>7.8</td>\n",
       "      <td>1330</td>\n",
       "      <td>271107</td>\n",
       "      <td>-12</td>\n",
       "    </tr>\n",
       "    <tr>\n",
       "      <th>1</th>\n",
       "      <td>Cinderella (2015)</td>\n",
       "      <td>85</td>\n",
       "      <td>80</td>\n",
       "      <td>67</td>\n",
       "      <td>7.5</td>\n",
       "      <td>7.1</td>\n",
       "      <td>249</td>\n",
       "      <td>65709</td>\n",
       "      <td>5</td>\n",
       "    </tr>\n",
       "    <tr>\n",
       "      <th>2</th>\n",
       "      <td>Ant-Man (2015)</td>\n",
       "      <td>80</td>\n",
       "      <td>90</td>\n",
       "      <td>64</td>\n",
       "      <td>8.1</td>\n",
       "      <td>7.8</td>\n",
       "      <td>627</td>\n",
       "      <td>103660</td>\n",
       "      <td>-10</td>\n",
       "    </tr>\n",
       "    <tr>\n",
       "      <th>3</th>\n",
       "      <td>Do You Believe? (2015)</td>\n",
       "      <td>18</td>\n",
       "      <td>84</td>\n",
       "      <td>22</td>\n",
       "      <td>4.7</td>\n",
       "      <td>5.4</td>\n",
       "      <td>31</td>\n",
       "      <td>3136</td>\n",
       "      <td>-66</td>\n",
       "    </tr>\n",
       "    <tr>\n",
       "      <th>4</th>\n",
       "      <td>Hot Tub Time Machine 2 (2015)</td>\n",
       "      <td>14</td>\n",
       "      <td>28</td>\n",
       "      <td>29</td>\n",
       "      <td>3.4</td>\n",
       "      <td>5.1</td>\n",
       "      <td>88</td>\n",
       "      <td>19560</td>\n",
       "      <td>-14</td>\n",
       "    </tr>\n",
       "    <tr>\n",
       "      <th>...</th>\n",
       "      <td>...</td>\n",
       "      <td>...</td>\n",
       "      <td>...</td>\n",
       "      <td>...</td>\n",
       "      <td>...</td>\n",
       "      <td>...</td>\n",
       "      <td>...</td>\n",
       "      <td>...</td>\n",
       "      <td>...</td>\n",
       "    </tr>\n",
       "    <tr>\n",
       "      <th>141</th>\n",
       "      <td>Mr. Holmes (2015)</td>\n",
       "      <td>87</td>\n",
       "      <td>78</td>\n",
       "      <td>67</td>\n",
       "      <td>7.9</td>\n",
       "      <td>7.4</td>\n",
       "      <td>33</td>\n",
       "      <td>7367</td>\n",
       "      <td>9</td>\n",
       "    </tr>\n",
       "    <tr>\n",
       "      <th>142</th>\n",
       "      <td>'71 (2015)</td>\n",
       "      <td>97</td>\n",
       "      <td>82</td>\n",
       "      <td>83</td>\n",
       "      <td>7.5</td>\n",
       "      <td>7.2</td>\n",
       "      <td>60</td>\n",
       "      <td>24116</td>\n",
       "      <td>15</td>\n",
       "    </tr>\n",
       "    <tr>\n",
       "      <th>143</th>\n",
       "      <td>Two Days, One Night (2014)</td>\n",
       "      <td>97</td>\n",
       "      <td>78</td>\n",
       "      <td>89</td>\n",
       "      <td>8.8</td>\n",
       "      <td>7.4</td>\n",
       "      <td>123</td>\n",
       "      <td>24345</td>\n",
       "      <td>19</td>\n",
       "    </tr>\n",
       "    <tr>\n",
       "      <th>144</th>\n",
       "      <td>Gett: The Trial of Viviane Amsalem (2015)</td>\n",
       "      <td>100</td>\n",
       "      <td>81</td>\n",
       "      <td>90</td>\n",
       "      <td>7.3</td>\n",
       "      <td>7.8</td>\n",
       "      <td>19</td>\n",
       "      <td>1955</td>\n",
       "      <td>19</td>\n",
       "    </tr>\n",
       "    <tr>\n",
       "      <th>145</th>\n",
       "      <td>Kumiko, The Treasure Hunter (2015)</td>\n",
       "      <td>87</td>\n",
       "      <td>63</td>\n",
       "      <td>68</td>\n",
       "      <td>6.4</td>\n",
       "      <td>6.7</td>\n",
       "      <td>19</td>\n",
       "      <td>5289</td>\n",
       "      <td>24</td>\n",
       "    </tr>\n",
       "  </tbody>\n",
       "</table>\n",
       "<p>146 rows × 9 columns</p>\n",
       "</div>"
      ],
      "text/plain": [
       "                                          FILM  RottenTomatoes  \\\n",
       "0               Avengers: Age of Ultron (2015)              74   \n",
       "1                            Cinderella (2015)              85   \n",
       "2                               Ant-Man (2015)              80   \n",
       "3                       Do You Believe? (2015)              18   \n",
       "4                Hot Tub Time Machine 2 (2015)              14   \n",
       "..                                         ...             ...   \n",
       "141                          Mr. Holmes (2015)              87   \n",
       "142                                 '71 (2015)              97   \n",
       "143                 Two Days, One Night (2014)              97   \n",
       "144  Gett: The Trial of Viviane Amsalem (2015)             100   \n",
       "145         Kumiko, The Treasure Hunter (2015)              87   \n",
       "\n",
       "     RottenTomatoes_User  Metacritic  Metacritic_User  IMDB  \\\n",
       "0                     86          66              7.1   7.8   \n",
       "1                     80          67              7.5   7.1   \n",
       "2                     90          64              8.1   7.8   \n",
       "3                     84          22              4.7   5.4   \n",
       "4                     28          29              3.4   5.1   \n",
       "..                   ...         ...              ...   ...   \n",
       "141                   78          67              7.9   7.4   \n",
       "142                   82          83              7.5   7.2   \n",
       "143                   78          89              8.8   7.4   \n",
       "144                   81          90              7.3   7.8   \n",
       "145                   63          68              6.4   6.7   \n",
       "\n",
       "     Metacritic_user_vote_count  IMDB_user_vote_count  Rotten_Diff  \n",
       "0                          1330                271107          -12  \n",
       "1                           249                 65709            5  \n",
       "2                           627                103660          -10  \n",
       "3                            31                  3136          -66  \n",
       "4                            88                 19560          -14  \n",
       "..                          ...                   ...          ...  \n",
       "141                          33                  7367            9  \n",
       "142                          60                 24116           15  \n",
       "143                         123                 24345           19  \n",
       "144                          19                  1955           19  \n",
       "145                          19                  5289           24  \n",
       "\n",
       "[146 rows x 9 columns]"
      ]
     },
     "execution_count": 26,
     "metadata": {},
     "output_type": "execute_result"
    }
   ],
   "source": [
    "all_sites"
   ]
  },
  {
   "cell_type": "markdown",
   "id": "d856e947",
   "metadata": {
    "papermill": {
     "duration": 0.023768,
     "end_time": "2022-09-02T22:26:50.685709",
     "exception": false,
     "start_time": "2022-09-02T22:26:50.661941",
     "status": "completed"
    },
    "tags": []
   },
   "source": [
    "Let's now compare the overall mean difference. Since we're dealing with differences that could be negative or positive, first take the absolute value of all the differences, then take the mean. This would report back on average to absolute difference between the critics rating versus the user rating."
   ]
  },
  {
   "cell_type": "markdown",
   "id": "6ad9fe90",
   "metadata": {
    "papermill": {
     "duration": 0.023758,
     "end_time": "2022-09-02T22:26:50.733480",
     "exception": false,
     "start_time": "2022-09-02T22:26:50.709722",
     "status": "completed"
    },
    "tags": []
   },
   "source": [
    "**Mean Absolute Difference between RT scores and RT User scores as described above.**"
   ]
  },
  {
   "cell_type": "code",
   "execution_count": 27,
   "id": "fd267289",
   "metadata": {
    "execution": {
     "iopub.execute_input": "2022-09-02T22:26:50.784367Z",
     "iopub.status.busy": "2022-09-02T22:26:50.783925Z",
     "iopub.status.idle": "2022-09-02T22:26:50.792891Z",
     "shell.execute_reply": "2022-09-02T22:26:50.791424Z"
    },
    "papermill": {
     "duration": 0.037696,
     "end_time": "2022-09-02T22:26:50.795657",
     "exception": false,
     "start_time": "2022-09-02T22:26:50.757961",
     "status": "completed"
    },
    "tags": []
   },
   "outputs": [
    {
     "data": {
      "text/plain": [
       "15.095890410958905"
      ]
     },
     "execution_count": 27,
     "metadata": {},
     "output_type": "execute_result"
    }
   ],
   "source": [
    "all_sites['Rotten_Diff'].abs().mean()"
   ]
  },
  {
   "cell_type": "markdown",
   "id": "c972628a",
   "metadata": {
    "papermill": {
     "duration": 0.025008,
     "end_time": "2022-09-02T22:26:50.845719",
     "exception": false,
     "start_time": "2022-09-02T22:26:50.820711",
     "status": "completed"
    },
    "tags": []
   },
   "source": [
    "**Plot of the distribution of the differences between RT Critics Score and RT User Score. There should be negative values in this distribution plot.**"
   ]
  },
  {
   "cell_type": "code",
   "execution_count": 28,
   "id": "a7cd97f3",
   "metadata": {
    "execution": {
     "iopub.execute_input": "2022-09-02T22:26:50.898602Z",
     "iopub.status.busy": "2022-09-02T22:26:50.897396Z",
     "iopub.status.idle": "2022-09-02T22:26:51.293909Z",
     "shell.execute_reply": "2022-09-02T22:26:51.292597Z"
    },
    "papermill": {
     "duration": 0.425753,
     "end_time": "2022-09-02T22:26:51.296778",
     "exception": false,
     "start_time": "2022-09-02T22:26:50.871025",
     "status": "completed"
    },
    "tags": []
   },
   "outputs": [
    {
     "data": {
      "image/png": "[encoded data removed]",
      "text/plain": [
       "<Figure size 1152x432 with 1 Axes>"
      ]
     },
     "metadata": {
      "needs_background": "light"
     },
     "output_type": "display_data"
    }
   ],
   "source": [
    "plt.figure(figsize=(16,6))\n",
    "p = sns.histplot(data=all_sites,x='Rotten_Diff',kde=True,bins=25)\n",
    "p.set_xlabel(\"Rotten_Diff\", fontsize = 18)\n",
    "p.set_ylabel(\"Count\", fontsize = 18)\n",
    "p.set_title(\"RT Critics Score minus RT User Score\", fontsize = 18);"
   ]
  },
  {
   "cell_type": "markdown",
   "id": "fd05df64",
   "metadata": {
    "papermill": {
     "duration": 0.024938,
     "end_time": "2022-09-02T22:26:51.347185",
     "exception": false,
     "start_time": "2022-09-02T22:26:51.322247",
     "status": "completed"
    },
    "tags": []
   },
   "source": [
    "**Distribution showing the *absolute value* difference between Critics and Users on Rotten Tomatoes.**"
   ]
  },
  {
   "cell_type": "code",
   "execution_count": 29,
   "id": "82b2e206",
   "metadata": {
    "execution": {
     "iopub.execute_input": "2022-09-02T22:26:51.399453Z",
     "iopub.status.busy": "2022-09-02T22:26:51.399015Z",
     "iopub.status.idle": "2022-09-02T22:26:51.405173Z",
     "shell.execute_reply": "2022-09-02T22:26:51.404200Z"
    },
    "papermill": {
     "duration": 0.034919,
     "end_time": "2022-09-02T22:26:51.407318",
     "exception": false,
     "start_time": "2022-09-02T22:26:51.372399",
     "status": "completed"
    },
    "tags": []
   },
   "outputs": [],
   "source": [
    "all_sites['Rotten_Diff_Abs'] = all_sites['Rotten_Diff'].abs()"
   ]
  },
  {
   "cell_type": "code",
   "execution_count": 30,
   "id": "f57ff2a5",
   "metadata": {
    "execution": {
     "iopub.execute_input": "2022-09-02T22:26:51.460385Z",
     "iopub.status.busy": "2022-09-02T22:26:51.459900Z",
     "iopub.status.idle": "2022-09-02T22:26:51.847382Z",
     "shell.execute_reply": "2022-09-02T22:26:51.846326Z"
    },
    "papermill": {
     "duration": 0.416874,
     "end_time": "2022-09-02T22:26:51.849621",
     "exception": false,
     "start_time": "2022-09-02T22:26:51.432747",
     "status": "completed"
    },
    "tags": []
   },
   "outputs": [
    {
     "data": {
      "image/png": "[encoded data removed]",
      "text/plain": [
       "<Figure size 1152x432 with 1 Axes>"
      ]
     },
     "metadata": {
      "needs_background": "light"
     },
     "output_type": "display_data"
    }
   ],
   "source": [
    "plt.figure(figsize=(16,6))\n",
    "p = sns.histplot(data=all_sites,x='Rotten_Diff_Abs',kde=True,bins=25)\n",
    "p.set_xlabel(\"Rotten_Diff\", fontsize = 18)\n",
    "p.set_ylabel(\"Count\", fontsize = 18)\n",
    "p.set_title(\"ABS Difference between RT Critics Score and RT User Score\", fontsize = 18);"
   ]
  },
  {
   "cell_type": "markdown",
   "id": "cce2d1bb",
   "metadata": {
    "papermill": {
     "duration": 0.025802,
     "end_time": "2022-09-02T22:26:51.901327",
     "exception": false,
     "start_time": "2022-09-02T22:26:51.875525",
     "status": "completed"
    },
    "tags": []
   },
   "source": [
    "**Let's find out which movies are causing the largest differences. First, show the top 5 movies with the largest *negative* difference between Users and RT critics. Since we calculated the difference as Critics Rating - Users Rating, then large negative values imply the users rated the movie much higher on average than the critics did.**"
   ]
  },
  {
   "cell_type": "markdown",
   "id": "3ffef35e",
   "metadata": {
    "papermill": {
     "duration": 0.026221,
     "end_time": "2022-09-02T22:26:51.953792",
     "exception": false,
     "start_time": "2022-09-02T22:26:51.927571",
     "status": "completed"
    },
    "tags": []
   },
   "source": [
    "**What are the top 5 movies users rated higher than critics on average?:**"
   ]
  },
  {
   "cell_type": "code",
   "execution_count": 31,
   "id": "33e5cce7",
   "metadata": {
    "execution": {
     "iopub.execute_input": "2022-09-02T22:26:52.010086Z",
     "iopub.status.busy": "2022-09-02T22:26:52.009331Z",
     "iopub.status.idle": "2022-09-02T22:26:52.021655Z",
     "shell.execute_reply": "2022-09-02T22:26:52.020736Z"
    },
    "papermill": {
     "duration": 0.042894,
     "end_time": "2022-09-02T22:26:52.023869",
     "exception": false,
     "start_time": "2022-09-02T22:26:51.980975",
     "status": "completed"
    },
    "tags": []
   },
   "outputs": [
    {
     "data": {
      "text/html": [
       "<div>\n",
       "<style scoped>\n",
       "    .dataframe tbody tr th:only-of-type {\n",
       "        vertical-align: middle;\n",
       "    }\n",
       "\n",
       "    .dataframe tbody tr th {\n",
       "        vertical-align: top;\n",
       "    }\n",
       "\n",
       "    .dataframe thead th {\n",
       "        text-align: right;\n",
       "    }\n",
       "</style>\n",
       "<table border=\"1\" class=\"dataframe\">\n",
       "  <thead>\n",
       "    <tr style=\"text-align: right;\">\n",
       "      <th></th>\n",
       "      <th>FILM</th>\n",
       "      <th>Rotten_Diff</th>\n",
       "    </tr>\n",
       "  </thead>\n",
       "  <tbody>\n",
       "    <tr>\n",
       "      <th>3</th>\n",
       "      <td>Do You Believe? (2015)</td>\n",
       "      <td>-66</td>\n",
       "    </tr>\n",
       "    <tr>\n",
       "      <th>85</th>\n",
       "      <td>Little Boy (2015)</td>\n",
       "      <td>-61</td>\n",
       "    </tr>\n",
       "    <tr>\n",
       "      <th>134</th>\n",
       "      <td>The Longest Ride (2015)</td>\n",
       "      <td>-42</td>\n",
       "    </tr>\n",
       "    <tr>\n",
       "      <th>105</th>\n",
       "      <td>Hitman: Agent 47 (2015)</td>\n",
       "      <td>-42</td>\n",
       "    </tr>\n",
       "    <tr>\n",
       "      <th>125</th>\n",
       "      <td>The Wedding Ringer (2015)</td>\n",
       "      <td>-39</td>\n",
       "    </tr>\n",
       "  </tbody>\n",
       "</table>\n",
       "</div>"
      ],
      "text/plain": [
       "                          FILM  Rotten_Diff\n",
       "3       Do You Believe? (2015)          -66\n",
       "85           Little Boy (2015)          -61\n",
       "134    The Longest Ride (2015)          -42\n",
       "105    Hitman: Agent 47 (2015)          -42\n",
       "125  The Wedding Ringer (2015)          -39"
      ]
     },
     "execution_count": 31,
     "metadata": {},
     "output_type": "execute_result"
    }
   ],
   "source": [
    "all_sites[['FILM','Rotten_Diff']].sort_values('Rotten_Diff', ascending=True).head(5)"
   ]
  },
  {
   "cell_type": "markdown",
   "id": "870f7a8c",
   "metadata": {
    "papermill": {
     "duration": 0.025871,
     "end_time": "2022-09-02T22:26:52.075688",
     "exception": false,
     "start_time": "2022-09-02T22:26:52.049817",
     "status": "completed"
    },
    "tags": []
   },
   "source": [
    "**Now top 5 movies critics scores higher than users on average.**"
   ]
  },
  {
   "cell_type": "code",
   "execution_count": 32,
   "id": "6b9faa75",
   "metadata": {
    "execution": {
     "iopub.execute_input": "2022-09-02T22:26:52.130267Z",
     "iopub.status.busy": "2022-09-02T22:26:52.129514Z",
     "iopub.status.idle": "2022-09-02T22:26:52.144020Z",
     "shell.execute_reply": "2022-09-02T22:26:52.143119Z"
    },
    "papermill": {
     "duration": 0.044709,
     "end_time": "2022-09-02T22:26:52.146297",
     "exception": false,
     "start_time": "2022-09-02T22:26:52.101588",
     "status": "completed"
    },
    "tags": []
   },
   "outputs": [
    {
     "data": {
      "text/html": [
       "<div>\n",
       "<style scoped>\n",
       "    .dataframe tbody tr th:only-of-type {\n",
       "        vertical-align: middle;\n",
       "    }\n",
       "\n",
       "    .dataframe tbody tr th {\n",
       "        vertical-align: top;\n",
       "    }\n",
       "\n",
       "    .dataframe thead th {\n",
       "        text-align: right;\n",
       "    }\n",
       "</style>\n",
       "<table border=\"1\" class=\"dataframe\">\n",
       "  <thead>\n",
       "    <tr style=\"text-align: right;\">\n",
       "      <th></th>\n",
       "      <th>FILM</th>\n",
       "      <th>Rotten_Diff</th>\n",
       "    </tr>\n",
       "  </thead>\n",
       "  <tbody>\n",
       "    <tr>\n",
       "      <th>69</th>\n",
       "      <td>Mr. Turner (2014)</td>\n",
       "      <td>42</td>\n",
       "    </tr>\n",
       "    <tr>\n",
       "      <th>112</th>\n",
       "      <td>It Follows (2015)</td>\n",
       "      <td>31</td>\n",
       "    </tr>\n",
       "    <tr>\n",
       "      <th>115</th>\n",
       "      <td>While We're Young (2015)</td>\n",
       "      <td>31</td>\n",
       "    </tr>\n",
       "    <tr>\n",
       "      <th>145</th>\n",
       "      <td>Kumiko, The Treasure Hunter (2015)</td>\n",
       "      <td>24</td>\n",
       "    </tr>\n",
       "    <tr>\n",
       "      <th>37</th>\n",
       "      <td>Welcome to Me (2015)</td>\n",
       "      <td>24</td>\n",
       "    </tr>\n",
       "  </tbody>\n",
       "</table>\n",
       "</div>"
      ],
      "text/plain": [
       "                                   FILM  Rotten_Diff\n",
       "69                    Mr. Turner (2014)           42\n",
       "112                   It Follows (2015)           31\n",
       "115            While We're Young (2015)           31\n",
       "145  Kumiko, The Treasure Hunter (2015)           24\n",
       "37                 Welcome to Me (2015)           24"
      ]
     },
     "execution_count": 32,
     "metadata": {},
     "output_type": "execute_result"
    }
   ],
   "source": [
    "all_sites[['FILM','Rotten_Diff']].sort_values('Rotten_Diff', ascending=False).head(5)"
   ]
  },
  {
   "cell_type": "markdown",
   "id": "cca368d3",
   "metadata": {
    "papermill": {
     "duration": 0.026413,
     "end_time": "2022-09-02T22:26:52.198826",
     "exception": false,
     "start_time": "2022-09-02T22:26:52.172413",
     "status": "completed"
    },
    "tags": []
   },
   "source": [
    "## MetaCritic\n",
    "\n",
    "Now let's take a quick look at the ratings from MetaCritic. Metacritic also shows an average user rating versus their official displayed rating."
   ]
  },
  {
   "cell_type": "markdown",
   "id": "4e6c9764",
   "metadata": {
    "papermill": {
     "duration": 0.026381,
     "end_time": "2022-09-02T22:26:52.251388",
     "exception": false,
     "start_time": "2022-09-02T22:26:52.225007",
     "status": "completed"
    },
    "tags": []
   },
   "source": [
    "**Scatterplot of the Metacritic Rating versus the Metacritic User rating.**"
   ]
  },
  {
   "cell_type": "code",
   "execution_count": 33,
   "id": "962cc1ac",
   "metadata": {
    "execution": {
     "iopub.execute_input": "2022-09-02T22:26:52.306860Z",
     "iopub.status.busy": "2022-09-02T22:26:52.306101Z",
     "iopub.status.idle": "2022-09-02T22:26:52.593774Z",
     "shell.execute_reply": "2022-09-02T22:26:52.592319Z"
    },
    "papermill": {
     "duration": 0.318663,
     "end_time": "2022-09-02T22:26:52.596511",
     "exception": false,
     "start_time": "2022-09-02T22:26:52.277848",
     "status": "completed"
    },
    "tags": []
   },
   "outputs": [
    {
     "data": {
      "image/png": "[encoded data removed]",
      "text/plain": [
       "<Figure size 1080x432 with 1 Axes>"
      ]
     },
     "metadata": {
      "needs_background": "light"
     },
     "output_type": "display_data"
    }
   ],
   "source": [
    "plt.figure(figsize=(15,6))\n",
    "sns.scatterplot(data=all_sites,x='Metacritic',y='Metacritic_User',s=60)\n",
    "plt.xticks([0, 20, 40, 60, 80, 100],fontsize=18)\n",
    "plt.yticks([0, 2, 4, 6, 8, 10],fontsize=18);"
   ]
  },
  {
   "cell_type": "markdown",
   "id": "89b7865e",
   "metadata": {
    "papermill": {
     "duration": 0.02678,
     "end_time": "2022-09-02T22:26:52.650087",
     "exception": false,
     "start_time": "2022-09-02T22:26:52.623307",
     "status": "completed"
    },
    "tags": []
   },
   "source": [
    "## IMDB\n",
    "\n",
    "Finally let's explore IMDB. Notice that both Metacritic and IMDB report back vote counts. Let's analyze the most popular movies.\n",
    "\n",
    "**Scatterplot for the relationship between vote counts on MetaCritic versus vote counts on IMDB.**"
   ]
  },
  {
   "cell_type": "code",
   "execution_count": 34,
   "id": "85f12375",
   "metadata": {
    "execution": {
     "iopub.execute_input": "2022-09-02T22:26:52.707088Z",
     "iopub.status.busy": "2022-09-02T22:26:52.706672Z",
     "iopub.status.idle": "2022-09-02T22:26:53.023872Z",
     "shell.execute_reply": "2022-09-02T22:26:53.022336Z"
    },
    "papermill": {
     "duration": 0.349844,
     "end_time": "2022-09-02T22:26:53.026893",
     "exception": false,
     "start_time": "2022-09-02T22:26:52.677049",
     "status": "completed"
    },
    "tags": []
   },
   "outputs": [
    {
     "data": {
      "image/png": "[encoded data removed]",
      "text/plain": [
       "<Figure size 1152x432 with 1 Axes>"
      ]
     },
     "metadata": {
      "needs_background": "light"
     },
     "output_type": "display_data"
    }
   ],
   "source": [
    "plt.figure(figsize=(16,6))\n",
    "p = sns.scatterplot(data=all_sites,x='Metacritic_user_vote_count',y='IMDB_user_vote_count',s=80)\n",
    "p.set_xlabel(\"Metacritic_user_vote_count\", fontsize = 18)\n",
    "p.set_ylabel(\"IMDB_user_vote_count\", fontsize = 18)\n",
    "plt.xticks(fontsize=16)\n",
    "plt.yticks(fontsize=16);"
   ]
  },
  {
   "cell_type": "code",
   "execution_count": 35,
   "id": "ec3f186c",
   "metadata": {
    "execution": {
     "iopub.execute_input": "2022-09-02T22:26:53.084207Z",
     "iopub.status.busy": "2022-09-02T22:26:53.083039Z",
     "iopub.status.idle": "2022-09-02T22:26:53.090082Z",
     "shell.execute_reply": "2022-09-02T22:26:53.089210Z"
    },
    "papermill": {
     "duration": 0.03823,
     "end_time": "2022-09-02T22:26:53.092619",
     "exception": false,
     "start_time": "2022-09-02T22:26:53.054389",
     "status": "completed"
    },
    "tags": []
   },
   "outputs": [],
   "source": [
    "all_sites.drop('Rotten_Diff_Abs',axis=1,inplace=True)"
   ]
  },
  {
   "cell_type": "markdown",
   "id": "a80eaede",
   "metadata": {
    "papermill": {
     "duration": 0.026967,
     "end_time": "2022-09-02T22:26:53.146683",
     "exception": false,
     "start_time": "2022-09-02T22:26:53.119716",
     "status": "completed"
    },
    "tags": []
   },
   "source": [
    "**Notice there are two outliers here. The movie with the highest vote count on IMDB only has about 500 Metacritic ratings. What is this movie?**\n",
    "\n",
    "**What movie has the highest IMDB user vote count?**"
   ]
  },
  {
   "cell_type": "code",
   "execution_count": 36,
   "id": "6606cde1",
   "metadata": {
    "execution": {
     "iopub.execute_input": "2022-09-02T22:26:53.202957Z",
     "iopub.status.busy": "2022-09-02T22:26:53.202090Z",
     "iopub.status.idle": "2022-09-02T22:26:53.219722Z",
     "shell.execute_reply": "2022-09-02T22:26:53.218510Z"
    },
    "papermill": {
     "duration": 0.048651,
     "end_time": "2022-09-02T22:26:53.222259",
     "exception": false,
     "start_time": "2022-09-02T22:26:53.173608",
     "status": "completed"
    },
    "tags": []
   },
   "outputs": [
    {
     "data": {
      "text/html": [
       "<div>\n",
       "<style scoped>\n",
       "    .dataframe tbody tr th:only-of-type {\n",
       "        vertical-align: middle;\n",
       "    }\n",
       "\n",
       "    .dataframe tbody tr th {\n",
       "        vertical-align: top;\n",
       "    }\n",
       "\n",
       "    .dataframe thead th {\n",
       "        text-align: right;\n",
       "    }\n",
       "</style>\n",
       "<table border=\"1\" class=\"dataframe\">\n",
       "  <thead>\n",
       "    <tr style=\"text-align: right;\">\n",
       "      <th></th>\n",
       "      <th>FILM</th>\n",
       "      <th>RottenTomatoes</th>\n",
       "      <th>RottenTomatoes_User</th>\n",
       "      <th>Metacritic</th>\n",
       "      <th>Metacritic_User</th>\n",
       "      <th>IMDB</th>\n",
       "      <th>Metacritic_user_vote_count</th>\n",
       "      <th>IMDB_user_vote_count</th>\n",
       "      <th>Rotten_Diff</th>\n",
       "    </tr>\n",
       "  </thead>\n",
       "  <tbody>\n",
       "    <tr>\n",
       "      <th>14</th>\n",
       "      <td>The Imitation Game (2014)</td>\n",
       "      <td>90</td>\n",
       "      <td>92</td>\n",
       "      <td>73</td>\n",
       "      <td>8.2</td>\n",
       "      <td>8.1</td>\n",
       "      <td>566</td>\n",
       "      <td>334164</td>\n",
       "      <td>-2</td>\n",
       "    </tr>\n",
       "  </tbody>\n",
       "</table>\n",
       "</div>"
      ],
      "text/plain": [
       "                         FILM  RottenTomatoes  RottenTomatoes_User  \\\n",
       "14  The Imitation Game (2014)              90                   92   \n",
       "\n",
       "    Metacritic  Metacritic_User  IMDB  Metacritic_user_vote_count  \\\n",
       "14          73              8.2   8.1                         566   \n",
       "\n",
       "    IMDB_user_vote_count  Rotten_Diff  \n",
       "14                334164           -2  "
      ]
     },
     "execution_count": 36,
     "metadata": {},
     "output_type": "execute_result"
    }
   ],
   "source": [
    "all_sites[all_sites['IMDB_user_vote_count']==all_sites['IMDB_user_vote_count'].max()]"
   ]
  },
  {
   "cell_type": "markdown",
   "id": "68880a82",
   "metadata": {
    "papermill": {
     "duration": 0.026744,
     "end_time": "2022-09-02T22:26:53.275934",
     "exception": false,
     "start_time": "2022-09-02T22:26:53.249190",
     "status": "completed"
    },
    "tags": []
   },
   "source": [
    "**What movie has the highest Metacritic User Vote count?**"
   ]
  },
  {
   "cell_type": "code",
   "execution_count": 37,
   "id": "0a8037d7",
   "metadata": {
    "execution": {
     "iopub.execute_input": "2022-09-02T22:26:53.332455Z",
     "iopub.status.busy": "2022-09-02T22:26:53.331617Z",
     "iopub.status.idle": "2022-09-02T22:26:53.347771Z",
     "shell.execute_reply": "2022-09-02T22:26:53.346528Z"
    },
    "papermill": {
     "duration": 0.047425,
     "end_time": "2022-09-02T22:26:53.350255",
     "exception": false,
     "start_time": "2022-09-02T22:26:53.302830",
     "status": "completed"
    },
    "tags": []
   },
   "outputs": [
    {
     "data": {
      "text/html": [
       "<div>\n",
       "<style scoped>\n",
       "    .dataframe tbody tr th:only-of-type {\n",
       "        vertical-align: middle;\n",
       "    }\n",
       "\n",
       "    .dataframe tbody tr th {\n",
       "        vertical-align: top;\n",
       "    }\n",
       "\n",
       "    .dataframe thead th {\n",
       "        text-align: right;\n",
       "    }\n",
       "</style>\n",
       "<table border=\"1\" class=\"dataframe\">\n",
       "  <thead>\n",
       "    <tr style=\"text-align: right;\">\n",
       "      <th></th>\n",
       "      <th>FILM</th>\n",
       "      <th>RottenTomatoes</th>\n",
       "      <th>RottenTomatoes_User</th>\n",
       "      <th>Metacritic</th>\n",
       "      <th>Metacritic_User</th>\n",
       "      <th>IMDB</th>\n",
       "      <th>Metacritic_user_vote_count</th>\n",
       "      <th>IMDB_user_vote_count</th>\n",
       "      <th>Rotten_Diff</th>\n",
       "    </tr>\n",
       "  </thead>\n",
       "  <tbody>\n",
       "    <tr>\n",
       "      <th>88</th>\n",
       "      <td>Mad Max: Fury Road (2015)</td>\n",
       "      <td>97</td>\n",
       "      <td>88</td>\n",
       "      <td>89</td>\n",
       "      <td>8.7</td>\n",
       "      <td>8.3</td>\n",
       "      <td>2375</td>\n",
       "      <td>292023</td>\n",
       "      <td>9</td>\n",
       "    </tr>\n",
       "  </tbody>\n",
       "</table>\n",
       "</div>"
      ],
      "text/plain": [
       "                         FILM  RottenTomatoes  RottenTomatoes_User  \\\n",
       "88  Mad Max: Fury Road (2015)              97                   88   \n",
       "\n",
       "    Metacritic  Metacritic_User  IMDB  Metacritic_user_vote_count  \\\n",
       "88          89              8.7   8.3                        2375   \n",
       "\n",
       "    IMDB_user_vote_count  Rotten_Diff  \n",
       "88                292023            9  "
      ]
     },
     "execution_count": 37,
     "metadata": {},
     "output_type": "execute_result"
    }
   ],
   "source": [
    "all_sites[all_sites['Metacritic_user_vote_count']==all_sites['Metacritic_user_vote_count'].max()]"
   ]
  },
  {
   "cell_type": "markdown",
   "id": "1fb55b7d",
   "metadata": {
    "papermill": {
     "duration": 0.027379,
     "end_time": "2022-09-02T22:26:53.404917",
     "exception": false,
     "start_time": "2022-09-02T22:26:53.377538",
     "status": "completed"
    },
    "tags": []
   },
   "source": [
    "## Fandago Scores vs. All Sites\n",
    "\n",
    "Finally let's begin to explore whether or not Fandango artificially displays higher ratings than warranted to boost ticket sales."
   ]
  },
  {
   "cell_type": "markdown",
   "id": "ace3e4ea",
   "metadata": {
    "papermill": {
     "duration": 0.027132,
     "end_time": "2022-09-02T22:26:53.460258",
     "exception": false,
     "start_time": "2022-09-02T22:26:53.433126",
     "status": "completed"
    },
    "tags": []
   },
   "source": [
    "**Let's join the Fandango Table with the All Sites table. Not every movie in the Fandango table is in the All Sites table, since some Fandango movies have very little or no reviews. We only want to compare movies that are in both DataFrames, so we will do an *inner* merge to merge together both DataFrames based on the FILM columns.**"
   ]
  },
  {
   "cell_type": "code",
   "execution_count": 38,
   "id": "4fb28167",
   "metadata": {
    "execution": {
     "iopub.execute_input": "2022-09-02T22:26:53.518071Z",
     "iopub.status.busy": "2022-09-02T22:26:53.517208Z",
     "iopub.status.idle": "2022-09-02T22:26:53.531625Z",
     "shell.execute_reply": "2022-09-02T22:26:53.530540Z"
    },
    "papermill": {
     "duration": 0.04637,
     "end_time": "2022-09-02T22:26:53.534443",
     "exception": false,
     "start_time": "2022-09-02T22:26:53.488073",
     "status": "completed"
    },
    "tags": []
   },
   "outputs": [],
   "source": [
    "merged = pd.merge(fandango, all_sites, on='FILM', how='inner')"
   ]
  },
  {
   "cell_type": "code",
   "execution_count": 39,
   "id": "8f16cce5",
   "metadata": {
    "execution": {
     "iopub.execute_input": "2022-09-02T22:26:53.592318Z",
     "iopub.status.busy": "2022-09-02T22:26:53.591850Z",
     "iopub.status.idle": "2022-09-02T22:26:53.610193Z",
     "shell.execute_reply": "2022-09-02T22:26:53.607980Z"
    },
    "papermill": {
     "duration": 0.05043,
     "end_time": "2022-09-02T22:26:53.612955",
     "exception": false,
     "start_time": "2022-09-02T22:26:53.562525",
     "status": "completed"
    },
    "tags": []
   },
   "outputs": [
    {
     "name": "stdout",
     "output_type": "stream",
     "text": [
      "<class 'pandas.core.frame.DataFrame'>\n",
      "Int64Index: 145 entries, 0 to 144\n",
      "Data columns (total 13 columns):\n",
      " #   Column                      Non-Null Count  Dtype  \n",
      "---  ------                      --------------  -----  \n",
      " 0   FILM                        145 non-null    object \n",
      " 1   STARS                       145 non-null    float64\n",
      " 2   RATING                      145 non-null    float64\n",
      " 3   VOTES                       145 non-null    int64  \n",
      " 4   YEAR                        145 non-null    object \n",
      " 5   RottenTomatoes              145 non-null    int64  \n",
      " 6   RottenTomatoes_User         145 non-null    int64  \n",
      " 7   Metacritic                  145 non-null    int64  \n",
      " 8   Metacritic_User             145 non-null    float64\n",
      " 9   IMDB                        145 non-null    float64\n",
      " 10  Metacritic_user_vote_count  145 non-null    int64  \n",
      " 11  IMDB_user_vote_count        145 non-null    int64  \n",
      " 12  Rotten_Diff                 145 non-null    int64  \n",
      "dtypes: float64(4), int64(7), object(2)\n",
      "memory usage: 15.9+ KB\n"
     ]
    }
   ],
   "source": [
    "merged.info()"
   ]
  },
  {
   "cell_type": "code",
   "execution_count": 40,
   "id": "7ff8c3b1",
   "metadata": {
    "execution": {
     "iopub.execute_input": "2022-09-02T22:26:53.670713Z",
     "iopub.status.busy": "2022-09-02T22:26:53.670291Z",
     "iopub.status.idle": "2022-09-02T22:26:53.690791Z",
     "shell.execute_reply": "2022-09-02T22:26:53.689232Z"
    },
    "papermill": {
     "duration": 0.052994,
     "end_time": "2022-09-02T22:26:53.693604",
     "exception": false,
     "start_time": "2022-09-02T22:26:53.640610",
     "status": "completed"
    },
    "tags": []
   },
   "outputs": [
    {
     "data": {
      "text/html": [
       "<div>\n",
       "<style scoped>\n",
       "    .dataframe tbody tr th:only-of-type {\n",
       "        vertical-align: middle;\n",
       "    }\n",
       "\n",
       "    .dataframe tbody tr th {\n",
       "        vertical-align: top;\n",
       "    }\n",
       "\n",
       "    .dataframe thead th {\n",
       "        text-align: right;\n",
       "    }\n",
       "</style>\n",
       "<table border=\"1\" class=\"dataframe\">\n",
       "  <thead>\n",
       "    <tr style=\"text-align: right;\">\n",
       "      <th></th>\n",
       "      <th>FILM</th>\n",
       "      <th>STARS</th>\n",
       "      <th>RATING</th>\n",
       "      <th>VOTES</th>\n",
       "      <th>YEAR</th>\n",
       "      <th>RottenTomatoes</th>\n",
       "      <th>RottenTomatoes_User</th>\n",
       "      <th>Metacritic</th>\n",
       "      <th>Metacritic_User</th>\n",
       "      <th>IMDB</th>\n",
       "      <th>Metacritic_user_vote_count</th>\n",
       "      <th>IMDB_user_vote_count</th>\n",
       "      <th>Rotten_Diff</th>\n",
       "    </tr>\n",
       "  </thead>\n",
       "  <tbody>\n",
       "    <tr>\n",
       "      <th>0</th>\n",
       "      <td>Fifty Shades of Grey (2015)</td>\n",
       "      <td>4.0</td>\n",
       "      <td>3.9</td>\n",
       "      <td>34846</td>\n",
       "      <td>2015</td>\n",
       "      <td>25</td>\n",
       "      <td>42</td>\n",
       "      <td>46</td>\n",
       "      <td>3.2</td>\n",
       "      <td>4.2</td>\n",
       "      <td>778</td>\n",
       "      <td>179506</td>\n",
       "      <td>-17</td>\n",
       "    </tr>\n",
       "    <tr>\n",
       "      <th>1</th>\n",
       "      <td>Jurassic World (2015)</td>\n",
       "      <td>4.5</td>\n",
       "      <td>4.5</td>\n",
       "      <td>34390</td>\n",
       "      <td>2015</td>\n",
       "      <td>71</td>\n",
       "      <td>81</td>\n",
       "      <td>59</td>\n",
       "      <td>7.0</td>\n",
       "      <td>7.3</td>\n",
       "      <td>1281</td>\n",
       "      <td>241807</td>\n",
       "      <td>-10</td>\n",
       "    </tr>\n",
       "    <tr>\n",
       "      <th>2</th>\n",
       "      <td>American Sniper (2015)</td>\n",
       "      <td>5.0</td>\n",
       "      <td>4.8</td>\n",
       "      <td>34085</td>\n",
       "      <td>2015</td>\n",
       "      <td>72</td>\n",
       "      <td>85</td>\n",
       "      <td>72</td>\n",
       "      <td>6.6</td>\n",
       "      <td>7.4</td>\n",
       "      <td>850</td>\n",
       "      <td>251856</td>\n",
       "      <td>-13</td>\n",
       "    </tr>\n",
       "    <tr>\n",
       "      <th>3</th>\n",
       "      <td>Furious 7 (2015)</td>\n",
       "      <td>5.0</td>\n",
       "      <td>4.8</td>\n",
       "      <td>33538</td>\n",
       "      <td>2015</td>\n",
       "      <td>81</td>\n",
       "      <td>84</td>\n",
       "      <td>67</td>\n",
       "      <td>6.8</td>\n",
       "      <td>7.4</td>\n",
       "      <td>764</td>\n",
       "      <td>207211</td>\n",
       "      <td>-3</td>\n",
       "    </tr>\n",
       "    <tr>\n",
       "      <th>4</th>\n",
       "      <td>Inside Out (2015)</td>\n",
       "      <td>4.5</td>\n",
       "      <td>4.5</td>\n",
       "      <td>15749</td>\n",
       "      <td>2015</td>\n",
       "      <td>98</td>\n",
       "      <td>90</td>\n",
       "      <td>94</td>\n",
       "      <td>8.9</td>\n",
       "      <td>8.6</td>\n",
       "      <td>807</td>\n",
       "      <td>96252</td>\n",
       "      <td>8</td>\n",
       "    </tr>\n",
       "  </tbody>\n",
       "</table>\n",
       "</div>"
      ],
      "text/plain": [
       "                          FILM  STARS  RATING  VOTES  YEAR  RottenTomatoes  \\\n",
       "0  Fifty Shades of Grey (2015)    4.0     3.9  34846  2015              25   \n",
       "1        Jurassic World (2015)    4.5     4.5  34390  2015              71   \n",
       "2       American Sniper (2015)    5.0     4.8  34085  2015              72   \n",
       "3             Furious 7 (2015)    5.0     4.8  33538  2015              81   \n",
       "4            Inside Out (2015)    4.5     4.5  15749  2015              98   \n",
       "\n",
       "   RottenTomatoes_User  Metacritic  Metacritic_User  IMDB  \\\n",
       "0                   42          46              3.2   4.2   \n",
       "1                   81          59              7.0   7.3   \n",
       "2                   85          72              6.6   7.4   \n",
       "3                   84          67              6.8   7.4   \n",
       "4                   90          94              8.9   8.6   \n",
       "\n",
       "   Metacritic_user_vote_count  IMDB_user_vote_count  Rotten_Diff  \n",
       "0                         778                179506          -17  \n",
       "1                        1281                241807          -10  \n",
       "2                         850                251856          -13  \n",
       "3                         764                207211           -3  \n",
       "4                         807                 96252            8  "
      ]
     },
     "execution_count": 40,
     "metadata": {},
     "output_type": "execute_result"
    }
   ],
   "source": [
    "merged.head()"
   ]
  },
  {
   "cell_type": "markdown",
   "id": "fabc811a",
   "metadata": {
    "papermill": {
     "duration": 0.027554,
     "end_time": "2022-09-02T22:26:53.749396",
     "exception": false,
     "start_time": "2022-09-02T22:26:53.721842",
     "status": "completed"
    },
    "tags": []
   },
   "source": [
    "### Normalize columns to Fandango STARS and RATINGS 0-5 \n",
    "\n",
    "Notice that RT,Metacritic, and IMDB don't use a score between 0-5 stars like Fandango does. In order to do a fair comparison, we need to *normalize* these values so they all fall between 0-5 stars and the relationship between reviews stays the same.\n",
    "\n",
    "**Let's create new normalized columns for all ratings so they match up within the 0-5 star range shown on Fandango. There are many ways to do this.**\n",
    "\n",
    "Keep in mind, a simple way to convert ratings:\n",
    "* 100/20 = 5 \n",
    "* 10/2 = 5"
   ]
  },
  {
   "cell_type": "code",
   "execution_count": 41,
   "id": "32cf7310",
   "metadata": {
    "execution": {
     "iopub.execute_input": "2022-09-02T22:26:53.806652Z",
     "iopub.status.busy": "2022-09-02T22:26:53.806226Z",
     "iopub.status.idle": "2022-09-02T22:26:53.814106Z",
     "shell.execute_reply": "2022-09-02T22:26:53.812681Z"
    },
    "papermill": {
     "duration": 0.039618,
     "end_time": "2022-09-02T22:26:53.816713",
     "exception": false,
     "start_time": "2022-09-02T22:26:53.777095",
     "status": "completed"
    },
    "tags": []
   },
   "outputs": [],
   "source": [
    "merged['RT_Norm'] = round(merged['RottenTomatoes'] / 20,1)"
   ]
  },
  {
   "cell_type": "code",
   "execution_count": 42,
   "id": "3b2a4ec2",
   "metadata": {
    "execution": {
     "iopub.execute_input": "2022-09-02T22:26:53.875204Z",
     "iopub.status.busy": "2022-09-02T22:26:53.873882Z",
     "iopub.status.idle": "2022-09-02T22:26:53.881527Z",
     "shell.execute_reply": "2022-09-02T22:26:53.880552Z"
    },
    "papermill": {
     "duration": 0.03961,
     "end_time": "2022-09-02T22:26:53.884218",
     "exception": false,
     "start_time": "2022-09-02T22:26:53.844608",
     "status": "completed"
    },
    "tags": []
   },
   "outputs": [],
   "source": [
    "merged['RTU_Norm'] = round(merged['RottenTomatoes_User'] / 20,1)"
   ]
  },
  {
   "cell_type": "code",
   "execution_count": 43,
   "id": "f6fb72f1",
   "metadata": {
    "execution": {
     "iopub.execute_input": "2022-09-02T22:26:53.943072Z",
     "iopub.status.busy": "2022-09-02T22:26:53.942219Z",
     "iopub.status.idle": "2022-09-02T22:26:53.949389Z",
     "shell.execute_reply": "2022-09-02T22:26:53.948452Z"
    },
    "papermill": {
     "duration": 0.039788,
     "end_time": "2022-09-02T22:26:53.951966",
     "exception": false,
     "start_time": "2022-09-02T22:26:53.912178",
     "status": "completed"
    },
    "tags": []
   },
   "outputs": [],
   "source": [
    "merged['Meta_Norm'] = round(merged['Metacritic'] / 20,1)"
   ]
  },
  {
   "cell_type": "code",
   "execution_count": 44,
   "id": "f81bc15b",
   "metadata": {
    "execution": {
     "iopub.execute_input": "2022-09-02T22:26:54.011187Z",
     "iopub.status.busy": "2022-09-02T22:26:54.010306Z",
     "iopub.status.idle": "2022-09-02T22:26:54.017362Z",
     "shell.execute_reply": "2022-09-02T22:26:54.016449Z"
    },
    "papermill": {
     "duration": 0.040095,
     "end_time": "2022-09-02T22:26:54.020117",
     "exception": false,
     "start_time": "2022-09-02T22:26:53.980022",
     "status": "completed"
    },
    "tags": []
   },
   "outputs": [],
   "source": [
    "merged['Meta_U_Norm'] = round(merged['Metacritic_User'] / 2,1)"
   ]
  },
  {
   "cell_type": "code",
   "execution_count": 45,
   "id": "5b929ab1",
   "metadata": {
    "execution": {
     "iopub.execute_input": "2022-09-02T22:26:54.078322Z",
     "iopub.status.busy": "2022-09-02T22:26:54.077434Z",
     "iopub.status.idle": "2022-09-02T22:26:54.084592Z",
     "shell.execute_reply": "2022-09-02T22:26:54.083564Z"
    },
    "papermill": {
     "duration": 0.03924,
     "end_time": "2022-09-02T22:26:54.087273",
     "exception": false,
     "start_time": "2022-09-02T22:26:54.048033",
     "status": "completed"
    },
    "tags": []
   },
   "outputs": [],
   "source": [
    "merged['IMDB_Norm'] = round(merged['IMDB'] / 2,1)"
   ]
  },
  {
   "cell_type": "code",
   "execution_count": 46,
   "id": "c89e0dd4",
   "metadata": {
    "execution": {
     "iopub.execute_input": "2022-09-02T22:26:54.146459Z",
     "iopub.status.busy": "2022-09-02T22:26:54.145611Z",
     "iopub.status.idle": "2022-09-02T22:26:54.170738Z",
     "shell.execute_reply": "2022-09-02T22:26:54.169229Z"
    },
    "papermill": {
     "duration": 0.057947,
     "end_time": "2022-09-02T22:26:54.173440",
     "exception": false,
     "start_time": "2022-09-02T22:26:54.115493",
     "status": "completed"
    },
    "tags": []
   },
   "outputs": [
    {
     "data": {
      "text/html": [
       "<div>\n",
       "<style scoped>\n",
       "    .dataframe tbody tr th:only-of-type {\n",
       "        vertical-align: middle;\n",
       "    }\n",
       "\n",
       "    .dataframe tbody tr th {\n",
       "        vertical-align: top;\n",
       "    }\n",
       "\n",
       "    .dataframe thead th {\n",
       "        text-align: right;\n",
       "    }\n",
       "</style>\n",
       "<table border=\"1\" class=\"dataframe\">\n",
       "  <thead>\n",
       "    <tr style=\"text-align: right;\">\n",
       "      <th></th>\n",
       "      <th>FILM</th>\n",
       "      <th>STARS</th>\n",
       "      <th>RATING</th>\n",
       "      <th>VOTES</th>\n",
       "      <th>YEAR</th>\n",
       "      <th>RottenTomatoes</th>\n",
       "      <th>RottenTomatoes_User</th>\n",
       "      <th>Metacritic</th>\n",
       "      <th>Metacritic_User</th>\n",
       "      <th>IMDB</th>\n",
       "      <th>Metacritic_user_vote_count</th>\n",
       "      <th>IMDB_user_vote_count</th>\n",
       "      <th>Rotten_Diff</th>\n",
       "      <th>RT_Norm</th>\n",
       "      <th>RTU_Norm</th>\n",
       "      <th>Meta_Norm</th>\n",
       "      <th>Meta_U_Norm</th>\n",
       "      <th>IMDB_Norm</th>\n",
       "    </tr>\n",
       "  </thead>\n",
       "  <tbody>\n",
       "    <tr>\n",
       "      <th>0</th>\n",
       "      <td>Fifty Shades of Grey (2015)</td>\n",
       "      <td>4.0</td>\n",
       "      <td>3.9</td>\n",
       "      <td>34846</td>\n",
       "      <td>2015</td>\n",
       "      <td>25</td>\n",
       "      <td>42</td>\n",
       "      <td>46</td>\n",
       "      <td>3.2</td>\n",
       "      <td>4.2</td>\n",
       "      <td>778</td>\n",
       "      <td>179506</td>\n",
       "      <td>-17</td>\n",
       "      <td>1.2</td>\n",
       "      <td>2.1</td>\n",
       "      <td>2.3</td>\n",
       "      <td>1.6</td>\n",
       "      <td>2.1</td>\n",
       "    </tr>\n",
       "    <tr>\n",
       "      <th>1</th>\n",
       "      <td>Jurassic World (2015)</td>\n",
       "      <td>4.5</td>\n",
       "      <td>4.5</td>\n",
       "      <td>34390</td>\n",
       "      <td>2015</td>\n",
       "      <td>71</td>\n",
       "      <td>81</td>\n",
       "      <td>59</td>\n",
       "      <td>7.0</td>\n",
       "      <td>7.3</td>\n",
       "      <td>1281</td>\n",
       "      <td>241807</td>\n",
       "      <td>-10</td>\n",
       "      <td>3.6</td>\n",
       "      <td>4.0</td>\n",
       "      <td>3.0</td>\n",
       "      <td>3.5</td>\n",
       "      <td>3.6</td>\n",
       "    </tr>\n",
       "    <tr>\n",
       "      <th>2</th>\n",
       "      <td>American Sniper (2015)</td>\n",
       "      <td>5.0</td>\n",
       "      <td>4.8</td>\n",
       "      <td>34085</td>\n",
       "      <td>2015</td>\n",
       "      <td>72</td>\n",
       "      <td>85</td>\n",
       "      <td>72</td>\n",
       "      <td>6.6</td>\n",
       "      <td>7.4</td>\n",
       "      <td>850</td>\n",
       "      <td>251856</td>\n",
       "      <td>-13</td>\n",
       "      <td>3.6</td>\n",
       "      <td>4.2</td>\n",
       "      <td>3.6</td>\n",
       "      <td>3.3</td>\n",
       "      <td>3.7</td>\n",
       "    </tr>\n",
       "    <tr>\n",
       "      <th>3</th>\n",
       "      <td>Furious 7 (2015)</td>\n",
       "      <td>5.0</td>\n",
       "      <td>4.8</td>\n",
       "      <td>33538</td>\n",
       "      <td>2015</td>\n",
       "      <td>81</td>\n",
       "      <td>84</td>\n",
       "      <td>67</td>\n",
       "      <td>6.8</td>\n",
       "      <td>7.4</td>\n",
       "      <td>764</td>\n",
       "      <td>207211</td>\n",
       "      <td>-3</td>\n",
       "      <td>4.0</td>\n",
       "      <td>4.2</td>\n",
       "      <td>3.4</td>\n",
       "      <td>3.4</td>\n",
       "      <td>3.7</td>\n",
       "    </tr>\n",
       "    <tr>\n",
       "      <th>4</th>\n",
       "      <td>Inside Out (2015)</td>\n",
       "      <td>4.5</td>\n",
       "      <td>4.5</td>\n",
       "      <td>15749</td>\n",
       "      <td>2015</td>\n",
       "      <td>98</td>\n",
       "      <td>90</td>\n",
       "      <td>94</td>\n",
       "      <td>8.9</td>\n",
       "      <td>8.6</td>\n",
       "      <td>807</td>\n",
       "      <td>96252</td>\n",
       "      <td>8</td>\n",
       "      <td>4.9</td>\n",
       "      <td>4.5</td>\n",
       "      <td>4.7</td>\n",
       "      <td>4.4</td>\n",
       "      <td>4.3</td>\n",
       "    </tr>\n",
       "  </tbody>\n",
       "</table>\n",
       "</div>"
      ],
      "text/plain": [
       "                          FILM  STARS  RATING  VOTES  YEAR  RottenTomatoes  \\\n",
       "0  Fifty Shades of Grey (2015)    4.0     3.9  34846  2015              25   \n",
       "1        Jurassic World (2015)    4.5     4.5  34390  2015              71   \n",
       "2       American Sniper (2015)    5.0     4.8  34085  2015              72   \n",
       "3             Furious 7 (2015)    5.0     4.8  33538  2015              81   \n",
       "4            Inside Out (2015)    4.5     4.5  15749  2015              98   \n",
       "\n",
       "   RottenTomatoes_User  Metacritic  Metacritic_User  IMDB  \\\n",
       "0                   42          46              3.2   4.2   \n",
       "1                   81          59              7.0   7.3   \n",
       "2                   85          72              6.6   7.4   \n",
       "3                   84          67              6.8   7.4   \n",
       "4                   90          94              8.9   8.6   \n",
       "\n",
       "   Metacritic_user_vote_count  IMDB_user_vote_count  Rotten_Diff  RT_Norm  \\\n",
       "0                         778                179506          -17      1.2   \n",
       "1                        1281                241807          -10      3.6   \n",
       "2                         850                251856          -13      3.6   \n",
       "3                         764                207211           -3      4.0   \n",
       "4                         807                 96252            8      4.9   \n",
       "\n",
       "   RTU_Norm  Meta_Norm  Meta_U_Norm  IMDB_Norm  \n",
       "0       2.1        2.3          1.6        2.1  \n",
       "1       4.0        3.0          3.5        3.6  \n",
       "2       4.2        3.6          3.3        3.7  \n",
       "3       4.2        3.4          3.4        3.7  \n",
       "4       4.5        4.7          4.4        4.3  "
      ]
     },
     "execution_count": 46,
     "metadata": {},
     "output_type": "execute_result"
    }
   ],
   "source": [
    "merged.head()"
   ]
  },
  {
   "cell_type": "markdown",
   "id": "5b2f1d96",
   "metadata": {
    "papermill": {
     "duration": 0.027959,
     "end_time": "2022-09-02T22:26:54.230071",
     "exception": false,
     "start_time": "2022-09-02T22:26:54.202112",
     "status": "completed"
    },
    "tags": []
   },
   "source": [
    "**Let's create a norm_scores DataFrame that only contains the normalizes ratings. Including both STARS and RATING from the original Fandango table.**"
   ]
  },
  {
   "cell_type": "code",
   "execution_count": 47,
   "id": "dd8ea900",
   "metadata": {
    "execution": {
     "iopub.execute_input": "2022-09-02T22:26:54.289990Z",
     "iopub.status.busy": "2022-09-02T22:26:54.289113Z",
     "iopub.status.idle": "2022-09-02T22:26:54.296583Z",
     "shell.execute_reply": "2022-09-02T22:26:54.295580Z"
    },
    "papermill": {
     "duration": 0.040363,
     "end_time": "2022-09-02T22:26:54.299246",
     "exception": false,
     "start_time": "2022-09-02T22:26:54.258883",
     "status": "completed"
    },
    "tags": []
   },
   "outputs": [],
   "source": [
    "norm_scores = merged[['STARS','RATING','RT_Norm','RTU_Norm','Meta_Norm','Meta_U_Norm','IMDB_Norm']]"
   ]
  },
  {
   "cell_type": "code",
   "execution_count": 48,
   "id": "7a5bb956",
   "metadata": {
    "execution": {
     "iopub.execute_input": "2022-09-02T22:26:54.358731Z",
     "iopub.status.busy": "2022-09-02T22:26:54.357826Z",
     "iopub.status.idle": "2022-09-02T22:26:54.376030Z",
     "shell.execute_reply": "2022-09-02T22:26:54.374686Z"
    },
    "papermill": {
     "duration": 0.050971,
     "end_time": "2022-09-02T22:26:54.378519",
     "exception": false,
     "start_time": "2022-09-02T22:26:54.327548",
     "status": "completed"
    },
    "tags": []
   },
   "outputs": [
    {
     "data": {
      "text/html": [
       "<div>\n",
       "<style scoped>\n",
       "    .dataframe tbody tr th:only-of-type {\n",
       "        vertical-align: middle;\n",
       "    }\n",
       "\n",
       "    .dataframe tbody tr th {\n",
       "        vertical-align: top;\n",
       "    }\n",
       "\n",
       "    .dataframe thead th {\n",
       "        text-align: right;\n",
       "    }\n",
       "</style>\n",
       "<table border=\"1\" class=\"dataframe\">\n",
       "  <thead>\n",
       "    <tr style=\"text-align: right;\">\n",
       "      <th></th>\n",
       "      <th>STARS</th>\n",
       "      <th>RATING</th>\n",
       "      <th>RT_Norm</th>\n",
       "      <th>RTU_Norm</th>\n",
       "      <th>Meta_Norm</th>\n",
       "      <th>Meta_U_Norm</th>\n",
       "      <th>IMDB_Norm</th>\n",
       "    </tr>\n",
       "  </thead>\n",
       "  <tbody>\n",
       "    <tr>\n",
       "      <th>0</th>\n",
       "      <td>4.0</td>\n",
       "      <td>3.9</td>\n",
       "      <td>1.2</td>\n",
       "      <td>2.1</td>\n",
       "      <td>2.3</td>\n",
       "      <td>1.6</td>\n",
       "      <td>2.1</td>\n",
       "    </tr>\n",
       "    <tr>\n",
       "      <th>1</th>\n",
       "      <td>4.5</td>\n",
       "      <td>4.5</td>\n",
       "      <td>3.6</td>\n",
       "      <td>4.0</td>\n",
       "      <td>3.0</td>\n",
       "      <td>3.5</td>\n",
       "      <td>3.6</td>\n",
       "    </tr>\n",
       "    <tr>\n",
       "      <th>2</th>\n",
       "      <td>5.0</td>\n",
       "      <td>4.8</td>\n",
       "      <td>3.6</td>\n",
       "      <td>4.2</td>\n",
       "      <td>3.6</td>\n",
       "      <td>3.3</td>\n",
       "      <td>3.7</td>\n",
       "    </tr>\n",
       "    <tr>\n",
       "      <th>3</th>\n",
       "      <td>5.0</td>\n",
       "      <td>4.8</td>\n",
       "      <td>4.0</td>\n",
       "      <td>4.2</td>\n",
       "      <td>3.4</td>\n",
       "      <td>3.4</td>\n",
       "      <td>3.7</td>\n",
       "    </tr>\n",
       "    <tr>\n",
       "      <th>4</th>\n",
       "      <td>4.5</td>\n",
       "      <td>4.5</td>\n",
       "      <td>4.9</td>\n",
       "      <td>4.5</td>\n",
       "      <td>4.7</td>\n",
       "      <td>4.4</td>\n",
       "      <td>4.3</td>\n",
       "    </tr>\n",
       "  </tbody>\n",
       "</table>\n",
       "</div>"
      ],
      "text/plain": [
       "   STARS  RATING  RT_Norm  RTU_Norm  Meta_Norm  Meta_U_Norm  IMDB_Norm\n",
       "0    4.0     3.9      1.2       2.1        2.3          1.6        2.1\n",
       "1    4.5     4.5      3.6       4.0        3.0          3.5        3.6\n",
       "2    5.0     4.8      3.6       4.2        3.6          3.3        3.7\n",
       "3    5.0     4.8      4.0       4.2        3.4          3.4        3.7\n",
       "4    4.5     4.5      4.9       4.5        4.7          4.4        4.3"
      ]
     },
     "execution_count": 48,
     "metadata": {},
     "output_type": "execute_result"
    }
   ],
   "source": [
    "norm_scores.head()"
   ]
  },
  {
   "cell_type": "markdown",
   "id": "c9f381f2",
   "metadata": {
    "papermill": {
     "duration": 0.028496,
     "end_time": "2022-09-02T22:26:54.435472",
     "exception": false,
     "start_time": "2022-09-02T22:26:54.406976",
     "status": "completed"
    },
    "tags": []
   },
   "source": [
    "### Comparing Distribution of Scores Across Sites\n",
    "\n",
    "\n",
    "Now the moment of truth! Does Fandango display abnormally high ratings? We already know it pushs displayed RATING higher than STARS, but are the ratings themselves higher than average?\n",
    "\n",
    "\n",
    "**Let's create a plot comparing the distributions of normalized ratings across all sites.**"
   ]
  },
  {
   "cell_type": "code",
   "execution_count": 49,
   "id": "c1e82c66",
   "metadata": {
    "execution": {
     "iopub.execute_input": "2022-09-02T22:26:54.495467Z",
     "iopub.status.busy": "2022-09-02T22:26:54.494713Z",
     "iopub.status.idle": "2022-09-02T22:26:54.501614Z",
     "shell.execute_reply": "2022-09-02T22:26:54.500699Z"
    },
    "papermill": {
     "duration": 0.040199,
     "end_time": "2022-09-02T22:26:54.503999",
     "exception": false,
     "start_time": "2022-09-02T22:26:54.463800",
     "status": "completed"
    },
    "tags": []
   },
   "outputs": [],
   "source": [
    "def move_legend(ax, new_loc, **kws):\n",
    "    old_legend = ax.legend_\n",
    "    handles = old_legend.legendHandles\n",
    "    labels = [t.get_text() for t in old_legend.get_texts()]\n",
    "    title = old_legend.get_title().get_text()\n",
    "    ax.legend(handles, labels, loc=new_loc, title=title, **kws)"
   ]
  },
  {
   "cell_type": "code",
   "execution_count": 50,
   "id": "ee4325ec",
   "metadata": {
    "execution": {
     "iopub.execute_input": "2022-09-02T22:26:54.563237Z",
     "iopub.status.busy": "2022-09-02T22:26:54.562496Z",
     "iopub.status.idle": "2022-09-02T22:26:55.169988Z",
     "shell.execute_reply": "2022-09-02T22:26:55.168359Z"
    },
    "papermill": {
     "duration": 0.641344,
     "end_time": "2022-09-02T22:26:55.173676",
     "exception": false,
     "start_time": "2022-09-02T22:26:54.532332",
     "status": "completed"
    },
    "tags": []
   },
   "outputs": [
    {
     "data": {
      "image/png": "[encoded data removed]",
      "text/plain": [
       "<Figure size 2250x900 with 1 Axes>"
      ]
     },
     "metadata": {
      "needs_background": "light"
     },
     "output_type": "display_data"
    }
   ],
   "source": [
    "fig, ax = plt.subplots(figsize=(15,6),dpi=150)\n",
    "sns.kdeplot(data=norm_scores,clip=[0,5],shade=True,palette='Set1',ax=ax)\n",
    "move_legend(ax, \"upper left\")"
   ]
  },
  {
   "cell_type": "markdown",
   "id": "cfdb0d9f",
   "metadata": {
    "papermill": {
     "duration": 0.031121,
     "end_time": "2022-09-02T22:26:55.236711",
     "exception": false,
     "start_time": "2022-09-02T22:26:55.205590",
     "status": "completed"
    },
    "tags": []
   },
   "source": [
    "**Clearly Fandango has an uneven distribution. We can also see that RT critics have the most uniform distribution. Let's directly compare these two.** \n",
    "\n",
    "**KDE plot that compare the distribution of RT critic ratings against the STARS displayed by Fandango.**"
   ]
  },
  {
   "cell_type": "code",
   "execution_count": 51,
   "id": "2c4845c5",
   "metadata": {
    "execution": {
     "iopub.execute_input": "2022-09-02T22:26:55.302389Z",
     "iopub.status.busy": "2022-09-02T22:26:55.301947Z",
     "iopub.status.idle": "2022-09-02T22:26:55.800406Z",
     "shell.execute_reply": "2022-09-02T22:26:55.799387Z"
    },
    "papermill": {
     "duration": 0.534108,
     "end_time": "2022-09-02T22:26:55.803175",
     "exception": false,
     "start_time": "2022-09-02T22:26:55.269067",
     "status": "completed"
    },
    "tags": []
   },
   "outputs": [
    {
     "data": {
      "image/png": "[encoded data removed]",
      "text/plain": [
       "<Figure size 2250x900 with 1 Axes>"
      ]
     },
     "metadata": {
      "needs_background": "light"
     },
     "output_type": "display_data"
    }
   ],
   "source": [
    "fig, ax = plt.subplots(figsize=(15,6),dpi=150)\n",
    "sns.kdeplot(data=norm_scores[['RT_Norm','STARS']],clip=[0,5],shade=True,palette='Set1',ax=ax)\n",
    "move_legend(ax, \"upper left\")"
   ]
  },
  {
   "cell_type": "markdown",
   "id": "21044177",
   "metadata": {
    "papermill": {
     "duration": 0.033434,
     "end_time": "2022-09-02T22:26:55.870118",
     "exception": false,
     "start_time": "2022-09-02T22:26:55.836684",
     "status": "completed"
    },
    "tags": []
   },
   "source": [
    "**Histplot comparing all normalized scores.**"
   ]
  },
  {
   "cell_type": "code",
   "execution_count": 52,
   "id": "b6bd5a6e",
   "metadata": {
    "execution": {
     "iopub.execute_input": "2022-09-02T22:26:55.940369Z",
     "iopub.status.busy": "2022-09-02T22:26:55.939707Z",
     "iopub.status.idle": "2022-09-02T22:26:57.661674Z",
     "shell.execute_reply": "2022-09-02T22:26:57.660652Z"
    },
    "papermill": {
     "duration": 1.760362,
     "end_time": "2022-09-02T22:26:57.664273",
     "exception": false,
     "start_time": "2022-09-02T22:26:55.903911",
     "status": "completed"
    },
    "tags": []
   },
   "outputs": [
    {
     "data": {
      "image/png": "[encoded data removed]",
      "text/plain": [
       "<Figure size 2250x900 with 1 Axes>"
      ]
     },
     "metadata": {
      "needs_background": "light"
     },
     "output_type": "display_data"
    }
   ],
   "source": [
    "plt.subplots(figsize=(15,6),dpi=150)\n",
    "sns.histplot(norm_scores,bins=50);"
   ]
  },
  {
   "cell_type": "markdown",
   "id": "023c20e1",
   "metadata": {
    "papermill": {
     "duration": 0.034261,
     "end_time": "2022-09-02T22:26:57.734661",
     "exception": false,
     "start_time": "2022-09-02T22:26:57.700400",
     "status": "completed"
    },
    "tags": []
   },
   "source": [
    "\n",
    "### How are the worst movies rated across all platforms?\n",
    "\n",
    "**Let's create a clustermap visualization of all normalized scores. Note the differences in ratings, highly rated movies should be clustered together versus poorly rated movies.**"
   ]
  },
  {
   "cell_type": "code",
   "execution_count": 53,
   "id": "3bd939dc",
   "metadata": {
    "execution": {
     "iopub.execute_input": "2022-09-02T22:26:57.806669Z",
     "iopub.status.busy": "2022-09-02T22:26:57.805849Z",
     "iopub.status.idle": "2022-09-02T22:26:58.630552Z",
     "shell.execute_reply": "2022-09-02T22:26:58.629321Z"
    },
    "papermill": {
     "duration": 0.863668,
     "end_time": "2022-09-02T22:26:58.632961",
     "exception": false,
     "start_time": "2022-09-02T22:26:57.769293",
     "status": "completed"
    },
    "tags": []
   },
   "outputs": [
    {
     "data": {
      "image/png": "[encoded data removed]",
      "text/plain": [
       "<Figure size 720x720 with 4 Axes>"
      ]
     },
     "metadata": {
      "needs_background": "light"
     },
     "output_type": "display_data"
    }
   ],
   "source": [
    "sns.clustermap(norm_scores,cmap='magma',col_cluster=False);"
   ]
  },
  {
   "cell_type": "markdown",
   "id": "d6690b90",
   "metadata": {
    "papermill": {
     "duration": 0.035439,
     "end_time": "2022-09-02T22:26:58.704024",
     "exception": false,
     "start_time": "2022-09-02T22:26:58.668585",
     "status": "completed"
    },
    "tags": []
   },
   "source": [
    "**Clearly Fandango is rating movies much higher than other sites, especially considering that it is then displaying a rounded up version of the rating. Let's examine the top 10 worst movies. Based off the Rotten Tomatoes Critic Ratings, what are the top 10 lowest rated movies? What are the normalized scores across all platforms for these movies?**"
   ]
  },
  {
   "cell_type": "code",
   "execution_count": 54,
   "id": "b3c04a7c",
   "metadata": {
    "execution": {
     "iopub.execute_input": "2022-09-02T22:26:58.774257Z",
     "iopub.status.busy": "2022-09-02T22:26:58.773766Z",
     "iopub.status.idle": "2022-09-02T22:26:58.781069Z",
     "shell.execute_reply": "2022-09-02T22:26:58.780111Z"
    },
    "papermill": {
     "duration": 0.045378,
     "end_time": "2022-09-02T22:26:58.783438",
     "exception": false,
     "start_time": "2022-09-02T22:26:58.738060",
     "status": "completed"
    },
    "tags": []
   },
   "outputs": [],
   "source": [
    "norm_films = merged[['STARS','RATING','RT_Norm','RTU_Norm','Meta_Norm','Meta_U_Norm','IMDB_Norm','FILM']]"
   ]
  },
  {
   "cell_type": "code",
   "execution_count": 55,
   "id": "4040b6d8",
   "metadata": {
    "execution": {
     "iopub.execute_input": "2022-09-02T22:26:58.853419Z",
     "iopub.status.busy": "2022-09-02T22:26:58.852955Z",
     "iopub.status.idle": "2022-09-02T22:26:58.875561Z",
     "shell.execute_reply": "2022-09-02T22:26:58.874445Z"
    },
    "papermill": {
     "duration": 0.060755,
     "end_time": "2022-09-02T22:26:58.877919",
     "exception": false,
     "start_time": "2022-09-02T22:26:58.817164",
     "status": "completed"
    },
    "tags": []
   },
   "outputs": [
    {
     "data": {
      "text/html": [
       "<div>\n",
       "<style scoped>\n",
       "    .dataframe tbody tr th:only-of-type {\n",
       "        vertical-align: middle;\n",
       "    }\n",
       "\n",
       "    .dataframe tbody tr th {\n",
       "        vertical-align: top;\n",
       "    }\n",
       "\n",
       "    .dataframe thead th {\n",
       "        text-align: right;\n",
       "    }\n",
       "</style>\n",
       "<table border=\"1\" class=\"dataframe\">\n",
       "  <thead>\n",
       "    <tr style=\"text-align: right;\">\n",
       "      <th></th>\n",
       "      <th>STARS</th>\n",
       "      <th>RATING</th>\n",
       "      <th>RT_Norm</th>\n",
       "      <th>RTU_Norm</th>\n",
       "      <th>Meta_Norm</th>\n",
       "      <th>Meta_U_Norm</th>\n",
       "      <th>IMDB_Norm</th>\n",
       "      <th>FILM</th>\n",
       "    </tr>\n",
       "  </thead>\n",
       "  <tbody>\n",
       "    <tr>\n",
       "      <th>49</th>\n",
       "      <td>3.5</td>\n",
       "      <td>3.5</td>\n",
       "      <td>0.2</td>\n",
       "      <td>1.8</td>\n",
       "      <td>0.6</td>\n",
       "      <td>1.2</td>\n",
       "      <td>2.2</td>\n",
       "      <td>Paul Blart: Mall Cop 2 (2015)</td>\n",
       "    </tr>\n",
       "    <tr>\n",
       "      <th>25</th>\n",
       "      <td>4.5</td>\n",
       "      <td>4.1</td>\n",
       "      <td>0.4</td>\n",
       "      <td>2.3</td>\n",
       "      <td>1.3</td>\n",
       "      <td>2.3</td>\n",
       "      <td>3.0</td>\n",
       "      <td>Taken 3 (2015)</td>\n",
       "    </tr>\n",
       "    <tr>\n",
       "      <th>28</th>\n",
       "      <td>3.0</td>\n",
       "      <td>2.7</td>\n",
       "      <td>0.4</td>\n",
       "      <td>1.0</td>\n",
       "      <td>1.4</td>\n",
       "      <td>1.2</td>\n",
       "      <td>2.0</td>\n",
       "      <td>Fantastic Four (2015)</td>\n",
       "    </tr>\n",
       "    <tr>\n",
       "      <th>54</th>\n",
       "      <td>4.0</td>\n",
       "      <td>3.7</td>\n",
       "      <td>0.4</td>\n",
       "      <td>1.8</td>\n",
       "      <td>1.6</td>\n",
       "      <td>1.8</td>\n",
       "      <td>2.4</td>\n",
       "      <td>Hot Pursuit (2015)</td>\n",
       "    </tr>\n",
       "    <tr>\n",
       "      <th>84</th>\n",
       "      <td>4.0</td>\n",
       "      <td>3.9</td>\n",
       "      <td>0.4</td>\n",
       "      <td>2.4</td>\n",
       "      <td>1.4</td>\n",
       "      <td>1.6</td>\n",
       "      <td>3.0</td>\n",
       "      <td>Hitman: Agent 47 (2015)</td>\n",
       "    </tr>\n",
       "    <tr>\n",
       "      <th>50</th>\n",
       "      <td>4.0</td>\n",
       "      <td>3.6</td>\n",
       "      <td>0.5</td>\n",
       "      <td>1.8</td>\n",
       "      <td>1.5</td>\n",
       "      <td>2.8</td>\n",
       "      <td>2.3</td>\n",
       "      <td>The Boy Next Door (2015)</td>\n",
       "    </tr>\n",
       "    <tr>\n",
       "      <th>77</th>\n",
       "      <td>3.5</td>\n",
       "      <td>3.2</td>\n",
       "      <td>0.6</td>\n",
       "      <td>1.8</td>\n",
       "      <td>1.5</td>\n",
       "      <td>2.0</td>\n",
       "      <td>2.8</td>\n",
       "      <td>Seventh Son (2015)</td>\n",
       "    </tr>\n",
       "    <tr>\n",
       "      <th>78</th>\n",
       "      <td>3.5</td>\n",
       "      <td>3.2</td>\n",
       "      <td>0.6</td>\n",
       "      <td>1.5</td>\n",
       "      <td>1.4</td>\n",
       "      <td>1.6</td>\n",
       "      <td>2.8</td>\n",
       "      <td>Mortdecai (2015)</td>\n",
       "    </tr>\n",
       "    <tr>\n",
       "      <th>83</th>\n",
       "      <td>3.5</td>\n",
       "      <td>3.3</td>\n",
       "      <td>0.6</td>\n",
       "      <td>1.7</td>\n",
       "      <td>1.6</td>\n",
       "      <td>2.5</td>\n",
       "      <td>2.8</td>\n",
       "      <td>Sinister 2 (2015)</td>\n",
       "    </tr>\n",
       "    <tr>\n",
       "      <th>87</th>\n",
       "      <td>3.5</td>\n",
       "      <td>3.2</td>\n",
       "      <td>0.6</td>\n",
       "      <td>1.4</td>\n",
       "      <td>1.6</td>\n",
       "      <td>1.9</td>\n",
       "      <td>2.7</td>\n",
       "      <td>Unfinished Business (2015)</td>\n",
       "    </tr>\n",
       "  </tbody>\n",
       "</table>\n",
       "</div>"
      ],
      "text/plain": [
       "    STARS  RATING  RT_Norm  RTU_Norm  Meta_Norm  Meta_U_Norm  IMDB_Norm  \\\n",
       "49    3.5     3.5      0.2       1.8        0.6          1.2        2.2   \n",
       "25    4.5     4.1      0.4       2.3        1.3          2.3        3.0   \n",
       "28    3.0     2.7      0.4       1.0        1.4          1.2        2.0   \n",
       "54    4.0     3.7      0.4       1.8        1.6          1.8        2.4   \n",
       "84    4.0     3.9      0.4       2.4        1.4          1.6        3.0   \n",
       "50    4.0     3.6      0.5       1.8        1.5          2.8        2.3   \n",
       "77    3.5     3.2      0.6       1.8        1.5          2.0        2.8   \n",
       "78    3.5     3.2      0.6       1.5        1.4          1.6        2.8   \n",
       "83    3.5     3.3      0.6       1.7        1.6          2.5        2.8   \n",
       "87    3.5     3.2      0.6       1.4        1.6          1.9        2.7   \n",
       "\n",
       "                             FILM  \n",
       "49  Paul Blart: Mall Cop 2 (2015)  \n",
       "25                 Taken 3 (2015)  \n",
       "28          Fantastic Four (2015)  \n",
       "54             Hot Pursuit (2015)  \n",
       "84        Hitman: Agent 47 (2015)  \n",
       "50       The Boy Next Door (2015)  \n",
       "77             Seventh Son (2015)  \n",
       "78               Mortdecai (2015)  \n",
       "83              Sinister 2 (2015)  \n",
       "87     Unfinished Business (2015)  "
      ]
     },
     "execution_count": 55,
     "metadata": {},
     "output_type": "execute_result"
    }
   ],
   "source": [
    "norm_films.nsmallest(10,'RT_Norm')"
   ]
  },
  {
   "cell_type": "markdown",
   "id": "95c34414",
   "metadata": {
    "papermill": {
     "duration": 0.036435,
     "end_time": "2022-09-02T22:26:58.949710",
     "exception": false,
     "start_time": "2022-09-02T22:26:58.913275",
     "status": "completed"
    },
    "tags": []
   },
   "source": [
    "**Visualization of the distribution of ratings across all sites for the top 10 worst movies.**"
   ]
  },
  {
   "cell_type": "code",
   "execution_count": 56,
   "id": "2b1a4a02",
   "metadata": {
    "execution": {
     "iopub.execute_input": "2022-09-02T22:26:59.024336Z",
     "iopub.status.busy": "2022-09-02T22:26:59.023510Z",
     "iopub.status.idle": "2022-09-02T22:26:59.589044Z",
     "shell.execute_reply": "2022-09-02T22:26:59.587652Z"
    },
    "papermill": {
     "duration": 0.606349,
     "end_time": "2022-09-02T22:26:59.591806",
     "exception": false,
     "start_time": "2022-09-02T22:26:58.985457",
     "status": "completed"
    },
    "tags": []
   },
   "outputs": [
    {
     "name": "stdout",
     "output_type": "stream",
     "text": [
      "\n",
      "\n",
      "\n"
     ]
    },
    {
     "data": {
      "image/png": "[encoded data removed]",
      "text/plain": [
       "<Figure size 2250x900 with 1 Axes>"
      ]
     },
     "metadata": {
      "needs_background": "light"
     },
     "output_type": "display_data"
    }
   ],
   "source": [
    "print('\\n\\n')\n",
    "plt.figure(figsize=(15,6),dpi=150)\n",
    "worst_films = norm_films.nsmallest(10,'RT_Norm').drop('FILM',axis=1)\n",
    "sns.kdeplot(data=worst_films,clip=[0,5],shade=True,palette='Set1')\n",
    "plt.title(\"Ratings for RT Critic's 10 Worst Reviewed Films\");"
   ]
  },
  {
   "cell_type": "markdown",
   "id": "7793ad7b",
   "metadata": {
    "papermill": {
     "duration": 0.040533,
     "end_time": "2022-09-02T22:26:59.671517",
     "exception": false,
     "start_time": "2022-09-02T22:26:59.630984",
     "status": "completed"
    },
    "tags": []
   },
   "source": [
    "**Conclusion: Fandango is showing around 3-4 star ratings for films that are clearly bad! Notice the biggest offender, [Taken 3!](https://www.youtube.com/watch?v=tJrfImRCHJ0). Fandango is displaying 4.5 stars on their site for a film with an [average rating of 1.86](https://en.wikipedia.org/wiki/Taken_3#Critical_response) across the other platforms!**"
   ]
  },
  {
   "cell_type": "code",
   "execution_count": 57,
   "id": "78121d5e",
   "metadata": {
    "execution": {
     "iopub.execute_input": "2022-09-02T22:26:59.747737Z",
     "iopub.status.busy": "2022-09-02T22:26:59.746356Z",
     "iopub.status.idle": "2022-09-02T22:26:59.756345Z",
     "shell.execute_reply": "2022-09-02T22:26:59.755307Z"
    },
    "papermill": {
     "duration": 0.050341,
     "end_time": "2022-09-02T22:26:59.758850",
     "exception": false,
     "start_time": "2022-09-02T22:26:59.708509",
     "status": "completed"
    },
    "tags": []
   },
   "outputs": [
    {
     "data": {
      "text/plain": [
       "STARS                     4.5\n",
       "RATING                    4.1\n",
       "RT_Norm                   0.4\n",
       "RTU_Norm                  2.3\n",
       "Meta_Norm                 1.3\n",
       "Meta_U_Norm               2.3\n",
       "IMDB_Norm                 3.0\n",
       "FILM           Taken 3 (2015)\n",
       "Name: 25, dtype: object"
      ]
     },
     "execution_count": 57,
     "metadata": {},
     "output_type": "execute_result"
    }
   ],
   "source": [
    "norm_films.iloc[25]"
   ]
  },
  {
   "cell_type": "markdown",
   "id": "3b6bf015",
   "metadata": {
    "papermill": {
     "duration": 0.036552,
     "end_time": "2022-09-02T22:26:59.832251",
     "exception": false,
     "start_time": "2022-09-02T22:26:59.795699",
     "status": "completed"
    },
    "tags": []
   },
   "source": [
    "**Average of the other movie sites for Taken 3 is equal to 1.86, while Fandango is giving 4.5 stars**"
   ]
  },
  {
   "cell_type": "code",
   "execution_count": 58,
   "id": "bb3f77cb",
   "metadata": {
    "execution": {
     "iopub.execute_input": "2022-09-02T22:26:59.908126Z",
     "iopub.status.busy": "2022-09-02T22:26:59.907288Z",
     "iopub.status.idle": "2022-09-02T22:26:59.915219Z",
     "shell.execute_reply": "2022-09-02T22:26:59.914192Z"
    },
    "papermill": {
     "duration": 0.048817,
     "end_time": "2022-09-02T22:26:59.917835",
     "exception": false,
     "start_time": "2022-09-02T22:26:59.869018",
     "status": "completed"
    },
    "tags": []
   },
   "outputs": [
    {
     "data": {
      "text/plain": [
       "9.3"
      ]
     },
     "execution_count": 58,
     "metadata": {},
     "output_type": "execute_result"
    }
   ],
   "source": [
    "0.4+2.3+1.3+2.3+3"
   ]
  },
  {
   "cell_type": "code",
   "execution_count": 59,
   "id": "03abc71c",
   "metadata": {
    "execution": {
     "iopub.execute_input": "2022-09-02T22:27:00.055363Z",
     "iopub.status.busy": "2022-09-02T22:27:00.054507Z",
     "iopub.status.idle": "2022-09-02T22:27:00.062319Z",
     "shell.execute_reply": "2022-09-02T22:27:00.061203Z"
    },
    "papermill": {
     "duration": 0.048967,
     "end_time": "2022-09-02T22:27:00.064827",
     "exception": false,
     "start_time": "2022-09-02T22:27:00.015860",
     "status": "completed"
    },
    "tags": []
   },
   "outputs": [
    {
     "data": {
      "text/plain": [
       "1.86"
      ]
     },
     "execution_count": 59,
     "metadata": {},
     "output_type": "execute_result"
    }
   ],
   "source": [
    "9.3/5"
   ]
  }
 ],
 "metadata": {
  "kernelspec": {
   "display_name": "Python 3",
   "language": "python",
   "name": "python3"
  },
  "language_info": {
   "codemirror_mode": {
    "name": "ipython",
    "version": 3
   },
   "file_extension": ".py",
   "mimetype": "text/x-python",
   "name": "python",
   "nbconvert_exporter": "python",
   "pygments_lexer": "ipython3",
   "version": "3.7.12"
  },
  "papermill": {
   "default_parameters": {},
   "duration": 26.722551,
   "end_time": "2022-09-02T22:27:00.925020",
   "environment_variables": {},
   "exception": null,
   "input_path": "__notebook__.ipynb",
   "output_path": "__notebook__.ipynb",
   "parameters": {},
   "start_time": "2022-09-02T22:26:34.202469",
   "version": "2.3.4"
  }
 },
 "nbformat": 4,
 "nbformat_minor": 5
}
